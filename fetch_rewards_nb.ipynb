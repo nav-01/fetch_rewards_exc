{
 "cells": [
  {
   "cell_type": "code",
   "execution_count": 1,
   "metadata": {},
   "outputs": [
    {
     "data": {
      "text/plain": [
       "(1119, 15)"
      ]
     },
     "execution_count": 1,
     "metadata": {},
     "output_type": "execute_result"
    }
   ],
   "source": [
    "import json\n",
    "import pandas as pd\n",
    "import sqlalchemy\n",
    "\n",
    "receipts = []\n",
    "with open('data/receipts.json', 'r') as file:\n",
    "    for line in file:\n",
    "        receipts.append(json.loads(line))\n",
    "df = pd.json_normalize(receipts)\n",
    "df.shape"
   ]
  },
  {
   "cell_type": "code",
   "execution_count": 2,
   "metadata": {},
   "outputs": [],
   "source": [
    "# Creating a new DF\n",
    "df_receipt = df.copy()"
   ]
  },
  {
   "cell_type": "code",
   "execution_count": 3,
   "metadata": {},
   "outputs": [
    {
     "data": {
      "text/plain": [
       "(1119, 21)"
      ]
     },
     "execution_count": 3,
     "metadata": {},
     "output_type": "execute_result"
    }
   ],
   "source": [
    "# Change data types and rename columns\n",
    "df_receipt = df_receipt.astype({'pointsEarned': 'float64'})\n",
    "df_receipt = df_receipt.astype({'totalSpent': 'float64'})\n",
    "df_receipt['createDate'] = pd.to_datetime(df_receipt['createDate.$date'], unit='ms')\n",
    "df_receipt['dateScanned'] = pd.to_datetime(df_receipt['dateScanned.$date'], unit='ms')\n",
    "df_receipt['finishedDate'] = pd.to_datetime(df_receipt['finishedDate.$date'], unit='ms')\n",
    "df_receipt['modifyDate'] = pd.to_datetime(df_receipt['modifyDate.$date'], unit='ms')\n",
    "df_receipt['pointsAwardedDate'] = pd.to_datetime(df_receipt['pointsAwardedDate.$date'], unit='ms')\n",
    "df_receipt['purchaseDate'] = pd.to_datetime(df_receipt['purchaseDate.$date'], unit='ms')\n",
    "df_receipt.rename(columns={'_id.$oid':'receipt_id'},inplace=True)\n",
    "df_receipt.shape"
   ]
  },
  {
   "cell_type": "code",
   "execution_count": 4,
   "metadata": {},
   "outputs": [
    {
     "data": {
      "text/html": [
       "<div>\n",
       "<style scoped>\n",
       "    .dataframe tbody tr th:only-of-type {\n",
       "        vertical-align: middle;\n",
       "    }\n",
       "\n",
       "    .dataframe tbody tr th {\n",
       "        vertical-align: top;\n",
       "    }\n",
       "\n",
       "    .dataframe thead th {\n",
       "        text-align: right;\n",
       "    }\n",
       "</style>\n",
       "<table border=\"1\" class=\"dataframe\">\n",
       "  <thead>\n",
       "    <tr style=\"text-align: right;\">\n",
       "      <th></th>\n",
       "      <th>receipt_id</th>\n",
       "      <th>rewardsReceiptStatus</th>\n",
       "    </tr>\n",
       "  </thead>\n",
       "  <tbody>\n",
       "    <tr>\n",
       "      <th>0</th>\n",
       "      <td>5ff1e1eb0a720f0523000575</td>\n",
       "      <td>FINISHED</td>\n",
       "    </tr>\n",
       "    <tr>\n",
       "      <th>1</th>\n",
       "      <td>5ff1e1bb0a720f052300056b</td>\n",
       "      <td>FINISHED</td>\n",
       "    </tr>\n",
       "    <tr>\n",
       "      <th>2</th>\n",
       "      <td>5ff1e1f10a720f052300057a</td>\n",
       "      <td>REJECTED</td>\n",
       "    </tr>\n",
       "    <tr>\n",
       "      <th>3</th>\n",
       "      <td>5ff1e1ee0a7214ada100056f</td>\n",
       "      <td>FINISHED</td>\n",
       "    </tr>\n",
       "    <tr>\n",
       "      <th>4</th>\n",
       "      <td>5ff1e1d20a7214ada1000561</td>\n",
       "      <td>FINISHED</td>\n",
       "    </tr>\n",
       "  </tbody>\n",
       "</table>\n",
       "</div>"
      ],
      "text/plain": [
       "                 receipt_id rewardsReceiptStatus\n",
       "0  5ff1e1eb0a720f0523000575             FINISHED\n",
       "1  5ff1e1bb0a720f052300056b             FINISHED\n",
       "2  5ff1e1f10a720f052300057a             REJECTED\n",
       "3  5ff1e1ee0a7214ada100056f             FINISHED\n",
       "4  5ff1e1d20a7214ada1000561             FINISHED"
      ]
     },
     "execution_count": 4,
     "metadata": {},
     "output_type": "execute_result"
    }
   ],
   "source": [
    "# Receipt Status DF\n",
    "df_receipt_status = df_receipt[['receipt_id','rewardsReceiptStatus']]\n",
    "df_receipt_status.head()"
   ]
  },
  {
   "cell_type": "code",
   "execution_count": 5,
   "metadata": {},
   "outputs": [
    {
     "data": {
      "text/html": [
       "<div>\n",
       "<style scoped>\n",
       "    .dataframe tbody tr th:only-of-type {\n",
       "        vertical-align: middle;\n",
       "    }\n",
       "\n",
       "    .dataframe tbody tr th {\n",
       "        vertical-align: top;\n",
       "    }\n",
       "\n",
       "    .dataframe thead th {\n",
       "        text-align: right;\n",
       "    }\n",
       "</style>\n",
       "<table border=\"1\" class=\"dataframe\">\n",
       "  <thead>\n",
       "    <tr style=\"text-align: right;\">\n",
       "      <th></th>\n",
       "      <th>receipt_id</th>\n",
       "      <th>bonusPointsEarnedReason</th>\n",
       "    </tr>\n",
       "  </thead>\n",
       "  <tbody>\n",
       "    <tr>\n",
       "      <th>0</th>\n",
       "      <td>5ff1e1eb0a720f0523000575</td>\n",
       "      <td>Receipt number 2 completed, bonus point schedu...</td>\n",
       "    </tr>\n",
       "    <tr>\n",
       "      <th>1</th>\n",
       "      <td>5ff1e1bb0a720f052300056b</td>\n",
       "      <td>Receipt number 5 completed, bonus point schedu...</td>\n",
       "    </tr>\n",
       "    <tr>\n",
       "      <th>2</th>\n",
       "      <td>5ff1e1f10a720f052300057a</td>\n",
       "      <td>All-receipts receipt bonus</td>\n",
       "    </tr>\n",
       "    <tr>\n",
       "      <th>3</th>\n",
       "      <td>5ff1e1ee0a7214ada100056f</td>\n",
       "      <td>All-receipts receipt bonus</td>\n",
       "    </tr>\n",
       "    <tr>\n",
       "      <th>4</th>\n",
       "      <td>5ff1e1d20a7214ada1000561</td>\n",
       "      <td>All-receipts receipt bonus</td>\n",
       "    </tr>\n",
       "  </tbody>\n",
       "</table>\n",
       "</div>"
      ],
      "text/plain": [
       "                 receipt_id                            bonusPointsEarnedReason\n",
       "0  5ff1e1eb0a720f0523000575  Receipt number 2 completed, bonus point schedu...\n",
       "1  5ff1e1bb0a720f052300056b  Receipt number 5 completed, bonus point schedu...\n",
       "2  5ff1e1f10a720f052300057a                         All-receipts receipt bonus\n",
       "3  5ff1e1ee0a7214ada100056f                         All-receipts receipt bonus\n",
       "4  5ff1e1d20a7214ada1000561                         All-receipts receipt bonus"
      ]
     },
     "execution_count": 5,
     "metadata": {},
     "output_type": "execute_result"
    }
   ],
   "source": [
    "# Receipt Bonus Points Earned Reason DF\n",
    "df_bp_reason = df_receipt[['receipt_id','bonusPointsEarnedReason']]\n",
    "df_bp_reason.head()"
   ]
  },
  {
   "cell_type": "code",
   "execution_count": 6,
   "metadata": {},
   "outputs": [
    {
     "data": {
      "text/html": [
       "<div>\n",
       "<style scoped>\n",
       "    .dataframe tbody tr th:only-of-type {\n",
       "        vertical-align: middle;\n",
       "    }\n",
       "\n",
       "    .dataframe tbody tr th {\n",
       "        vertical-align: top;\n",
       "    }\n",
       "\n",
       "    .dataframe thead th {\n",
       "        text-align: right;\n",
       "    }\n",
       "</style>\n",
       "<table border=\"1\" class=\"dataframe\">\n",
       "  <thead>\n",
       "    <tr style=\"text-align: right;\">\n",
       "      <th></th>\n",
       "      <th>barcode</th>\n",
       "      <th>description</th>\n",
       "      <th>finalPrice</th>\n",
       "      <th>itemPrice</th>\n",
       "      <th>needsFetchReview</th>\n",
       "      <th>partnerItemId</th>\n",
       "      <th>preventTargetGapPoints</th>\n",
       "      <th>quantityPurchased</th>\n",
       "      <th>userFlaggedBarcode</th>\n",
       "      <th>userFlaggedNewItem</th>\n",
       "      <th>...</th>\n",
       "      <th>originalMetaBriteQuantityPurchased</th>\n",
       "      <th>pointsEarned</th>\n",
       "      <th>targetPrice</th>\n",
       "      <th>competitiveProduct</th>\n",
       "      <th>originalFinalPrice</th>\n",
       "      <th>originalMetaBriteItemPrice</th>\n",
       "      <th>deleted</th>\n",
       "      <th>priceAfterCoupon</th>\n",
       "      <th>metabriteCampaignId</th>\n",
       "      <th>receipt_id</th>\n",
       "    </tr>\n",
       "  </thead>\n",
       "  <tbody>\n",
       "    <tr>\n",
       "      <th>0</th>\n",
       "      <td>4011</td>\n",
       "      <td>ITEM NOT FOUND</td>\n",
       "      <td>26.00</td>\n",
       "      <td>26.00</td>\n",
       "      <td>False</td>\n",
       "      <td>1</td>\n",
       "      <td>True</td>\n",
       "      <td>5.0</td>\n",
       "      <td>4011</td>\n",
       "      <td>True</td>\n",
       "      <td>...</td>\n",
       "      <td>NaN</td>\n",
       "      <td>NaN</td>\n",
       "      <td>NaN</td>\n",
       "      <td>NaN</td>\n",
       "      <td>NaN</td>\n",
       "      <td>NaN</td>\n",
       "      <td>NaN</td>\n",
       "      <td>NaN</td>\n",
       "      <td>NaN</td>\n",
       "      <td>5ff1e1eb0a720f0523000575</td>\n",
       "    </tr>\n",
       "    <tr>\n",
       "      <th>1</th>\n",
       "      <td>4011</td>\n",
       "      <td>ITEM NOT FOUND</td>\n",
       "      <td>1</td>\n",
       "      <td>1</td>\n",
       "      <td>NaN</td>\n",
       "      <td>1</td>\n",
       "      <td>NaN</td>\n",
       "      <td>1.0</td>\n",
       "      <td>NaN</td>\n",
       "      <td>NaN</td>\n",
       "      <td>...</td>\n",
       "      <td>NaN</td>\n",
       "      <td>NaN</td>\n",
       "      <td>NaN</td>\n",
       "      <td>NaN</td>\n",
       "      <td>NaN</td>\n",
       "      <td>NaN</td>\n",
       "      <td>NaN</td>\n",
       "      <td>NaN</td>\n",
       "      <td>NaN</td>\n",
       "      <td>5ff1e1bb0a720f052300056b</td>\n",
       "    </tr>\n",
       "    <tr>\n",
       "      <th>2</th>\n",
       "      <td>028400642255</td>\n",
       "      <td>DORITOS TORTILLA CHIP SPICY SWEET CHILI REDUCE...</td>\n",
       "      <td>10.00</td>\n",
       "      <td>10.00</td>\n",
       "      <td>True</td>\n",
       "      <td>2</td>\n",
       "      <td>True</td>\n",
       "      <td>1.0</td>\n",
       "      <td>028400642255</td>\n",
       "      <td>True</td>\n",
       "      <td>...</td>\n",
       "      <td>NaN</td>\n",
       "      <td>NaN</td>\n",
       "      <td>NaN</td>\n",
       "      <td>NaN</td>\n",
       "      <td>NaN</td>\n",
       "      <td>NaN</td>\n",
       "      <td>NaN</td>\n",
       "      <td>NaN</td>\n",
       "      <td>NaN</td>\n",
       "      <td>5ff1e1bb0a720f052300056b</td>\n",
       "    </tr>\n",
       "    <tr>\n",
       "      <th>3</th>\n",
       "      <td>NaN</td>\n",
       "      <td>NaN</td>\n",
       "      <td>NaN</td>\n",
       "      <td>NaN</td>\n",
       "      <td>False</td>\n",
       "      <td>1</td>\n",
       "      <td>True</td>\n",
       "      <td>NaN</td>\n",
       "      <td>4011</td>\n",
       "      <td>True</td>\n",
       "      <td>...</td>\n",
       "      <td>NaN</td>\n",
       "      <td>NaN</td>\n",
       "      <td>NaN</td>\n",
       "      <td>NaN</td>\n",
       "      <td>NaN</td>\n",
       "      <td>NaN</td>\n",
       "      <td>NaN</td>\n",
       "      <td>NaN</td>\n",
       "      <td>NaN</td>\n",
       "      <td>5ff1e1f10a720f052300057a</td>\n",
       "    </tr>\n",
       "    <tr>\n",
       "      <th>4</th>\n",
       "      <td>4011</td>\n",
       "      <td>ITEM NOT FOUND</td>\n",
       "      <td>28.00</td>\n",
       "      <td>28.00</td>\n",
       "      <td>False</td>\n",
       "      <td>1</td>\n",
       "      <td>True</td>\n",
       "      <td>4.0</td>\n",
       "      <td>4011</td>\n",
       "      <td>True</td>\n",
       "      <td>...</td>\n",
       "      <td>NaN</td>\n",
       "      <td>NaN</td>\n",
       "      <td>NaN</td>\n",
       "      <td>NaN</td>\n",
       "      <td>NaN</td>\n",
       "      <td>NaN</td>\n",
       "      <td>NaN</td>\n",
       "      <td>NaN</td>\n",
       "      <td>NaN</td>\n",
       "      <td>5ff1e1ee0a7214ada100056f</td>\n",
       "    </tr>\n",
       "  </tbody>\n",
       "</table>\n",
       "<p>5 rows × 35 columns</p>\n",
       "</div>"
      ],
      "text/plain": [
       "        barcode                                        description finalPrice  \\\n",
       "0          4011                                     ITEM NOT FOUND      26.00   \n",
       "1          4011                                     ITEM NOT FOUND          1   \n",
       "2  028400642255  DORITOS TORTILLA CHIP SPICY SWEET CHILI REDUCE...      10.00   \n",
       "3           NaN                                                NaN        NaN   \n",
       "4          4011                                     ITEM NOT FOUND      28.00   \n",
       "\n",
       "  itemPrice needsFetchReview partnerItemId preventTargetGapPoints  \\\n",
       "0     26.00            False             1                   True   \n",
       "1         1              NaN             1                    NaN   \n",
       "2     10.00             True             2                   True   \n",
       "3       NaN            False             1                   True   \n",
       "4     28.00            False             1                   True   \n",
       "\n",
       "   quantityPurchased userFlaggedBarcode userFlaggedNewItem  ...  \\\n",
       "0                5.0               4011               True  ...   \n",
       "1                1.0                NaN                NaN  ...   \n",
       "2                1.0       028400642255               True  ...   \n",
       "3                NaN               4011               True  ...   \n",
       "4                4.0               4011               True  ...   \n",
       "\n",
       "  originalMetaBriteQuantityPurchased  pointsEarned targetPrice  \\\n",
       "0                                NaN           NaN         NaN   \n",
       "1                                NaN           NaN         NaN   \n",
       "2                                NaN           NaN         NaN   \n",
       "3                                NaN           NaN         NaN   \n",
       "4                                NaN           NaN         NaN   \n",
       "\n",
       "  competitiveProduct originalFinalPrice originalMetaBriteItemPrice deleted  \\\n",
       "0                NaN                NaN                        NaN     NaN   \n",
       "1                NaN                NaN                        NaN     NaN   \n",
       "2                NaN                NaN                        NaN     NaN   \n",
       "3                NaN                NaN                        NaN     NaN   \n",
       "4                NaN                NaN                        NaN     NaN   \n",
       "\n",
       "  priceAfterCoupon metabriteCampaignId                receipt_id  \n",
       "0              NaN                 NaN  5ff1e1eb0a720f0523000575  \n",
       "1              NaN                 NaN  5ff1e1bb0a720f052300056b  \n",
       "2              NaN                 NaN  5ff1e1bb0a720f052300056b  \n",
       "3              NaN                 NaN  5ff1e1f10a720f052300057a  \n",
       "4              NaN                 NaN  5ff1e1ee0a7214ada100056f  \n",
       "\n",
       "[5 rows x 35 columns]"
      ]
     },
     "execution_count": 6,
     "metadata": {},
     "output_type": "execute_result"
    }
   ],
   "source": [
    "# Note: Receipts that don't have the required key or did not buy any item are not considered\n",
    "data = {}\n",
    "data['result'] = [receipts[x] for x in range(len(receipts)) if receipts[x].get('rewardsReceiptItemList')]\n",
    "df_receipt_item = pd.json_normalize(data['result'],'rewardsReceiptItemList', meta=['_id'])\n",
    "df_receipt_item['receipt_id'] = df_receipt_item['_id'].apply(pd.Series)\n",
    "df_receipt_item.drop('_id', axis=1, inplace=True)\n",
    "df_receipt_item.head()"
   ]
  },
  {
   "cell_type": "code",
   "execution_count": 7,
   "metadata": {},
   "outputs": [
    {
     "data": {
      "text/html": [
       "<div>\n",
       "<style scoped>\n",
       "    .dataframe tbody tr th:only-of-type {\n",
       "        vertical-align: middle;\n",
       "    }\n",
       "\n",
       "    .dataframe tbody tr th {\n",
       "        vertical-align: top;\n",
       "    }\n",
       "\n",
       "    .dataframe thead th {\n",
       "        text-align: right;\n",
       "    }\n",
       "</style>\n",
       "<table border=\"1\" class=\"dataframe\">\n",
       "  <thead>\n",
       "    <tr style=\"text-align: right;\">\n",
       "      <th></th>\n",
       "      <th>bonusPointsEarned</th>\n",
       "      <th>pointsEarned</th>\n",
       "      <th>purchasedItemCount</th>\n",
       "      <th>totalSpent</th>\n",
       "      <th>userId</th>\n",
       "      <th>receipt_id</th>\n",
       "      <th>createDate</th>\n",
       "      <th>dateScanned</th>\n",
       "      <th>finishedDate</th>\n",
       "      <th>modifyDate</th>\n",
       "      <th>pointsAwardedDate</th>\n",
       "      <th>purchaseDate</th>\n",
       "    </tr>\n",
       "  </thead>\n",
       "  <tbody>\n",
       "    <tr>\n",
       "      <th>0</th>\n",
       "      <td>500.0</td>\n",
       "      <td>500.0</td>\n",
       "      <td>5.0</td>\n",
       "      <td>26.0</td>\n",
       "      <td>5ff1e1eacfcf6c399c274ae6</td>\n",
       "      <td>5ff1e1eb0a720f0523000575</td>\n",
       "      <td>2021-01-03 15:25:31</td>\n",
       "      <td>2021-01-03 15:25:31</td>\n",
       "      <td>2021-01-03 15:25:31</td>\n",
       "      <td>2021-01-03 15:25:36</td>\n",
       "      <td>2021-01-03 15:25:31</td>\n",
       "      <td>2021-01-03 00:00:00</td>\n",
       "    </tr>\n",
       "    <tr>\n",
       "      <th>1</th>\n",
       "      <td>150.0</td>\n",
       "      <td>150.0</td>\n",
       "      <td>2.0</td>\n",
       "      <td>11.0</td>\n",
       "      <td>5ff1e194b6a9d73a3a9f1052</td>\n",
       "      <td>5ff1e1bb0a720f052300056b</td>\n",
       "      <td>2021-01-03 15:24:43</td>\n",
       "      <td>2021-01-03 15:24:43</td>\n",
       "      <td>2021-01-03 15:24:43</td>\n",
       "      <td>2021-01-03 15:24:48</td>\n",
       "      <td>2021-01-03 15:24:43</td>\n",
       "      <td>2021-01-02 15:24:43</td>\n",
       "    </tr>\n",
       "    <tr>\n",
       "      <th>2</th>\n",
       "      <td>5.0</td>\n",
       "      <td>5.0</td>\n",
       "      <td>1.0</td>\n",
       "      <td>10.0</td>\n",
       "      <td>5ff1e1f1cfcf6c399c274b0b</td>\n",
       "      <td>5ff1e1f10a720f052300057a</td>\n",
       "      <td>2021-01-03 15:25:37</td>\n",
       "      <td>2021-01-03 15:25:37</td>\n",
       "      <td>NaT</td>\n",
       "      <td>2021-01-03 15:25:42</td>\n",
       "      <td>NaT</td>\n",
       "      <td>2021-01-03 00:00:00</td>\n",
       "    </tr>\n",
       "    <tr>\n",
       "      <th>3</th>\n",
       "      <td>5.0</td>\n",
       "      <td>5.0</td>\n",
       "      <td>4.0</td>\n",
       "      <td>28.0</td>\n",
       "      <td>5ff1e1eacfcf6c399c274ae6</td>\n",
       "      <td>5ff1e1ee0a7214ada100056f</td>\n",
       "      <td>2021-01-03 15:25:34</td>\n",
       "      <td>2021-01-03 15:25:34</td>\n",
       "      <td>2021-01-03 15:25:34</td>\n",
       "      <td>2021-01-03 15:25:39</td>\n",
       "      <td>2021-01-03 15:25:34</td>\n",
       "      <td>2021-01-03 00:00:00</td>\n",
       "    </tr>\n",
       "    <tr>\n",
       "      <th>4</th>\n",
       "      <td>5.0</td>\n",
       "      <td>5.0</td>\n",
       "      <td>2.0</td>\n",
       "      <td>1.0</td>\n",
       "      <td>5ff1e194b6a9d73a3a9f1052</td>\n",
       "      <td>5ff1e1d20a7214ada1000561</td>\n",
       "      <td>2021-01-03 15:25:06</td>\n",
       "      <td>2021-01-03 15:25:06</td>\n",
       "      <td>2021-01-03 15:25:11</td>\n",
       "      <td>2021-01-03 15:25:11</td>\n",
       "      <td>2021-01-03 15:25:06</td>\n",
       "      <td>2021-01-02 15:25:06</td>\n",
       "    </tr>\n",
       "  </tbody>\n",
       "</table>\n",
       "</div>"
      ],
      "text/plain": [
       "   bonusPointsEarned  pointsEarned  purchasedItemCount  totalSpent  \\\n",
       "0              500.0         500.0                 5.0        26.0   \n",
       "1              150.0         150.0                 2.0        11.0   \n",
       "2                5.0           5.0                 1.0        10.0   \n",
       "3                5.0           5.0                 4.0        28.0   \n",
       "4                5.0           5.0                 2.0         1.0   \n",
       "\n",
       "                     userId                receipt_id          createDate  \\\n",
       "0  5ff1e1eacfcf6c399c274ae6  5ff1e1eb0a720f0523000575 2021-01-03 15:25:31   \n",
       "1  5ff1e194b6a9d73a3a9f1052  5ff1e1bb0a720f052300056b 2021-01-03 15:24:43   \n",
       "2  5ff1e1f1cfcf6c399c274b0b  5ff1e1f10a720f052300057a 2021-01-03 15:25:37   \n",
       "3  5ff1e1eacfcf6c399c274ae6  5ff1e1ee0a7214ada100056f 2021-01-03 15:25:34   \n",
       "4  5ff1e194b6a9d73a3a9f1052  5ff1e1d20a7214ada1000561 2021-01-03 15:25:06   \n",
       "\n",
       "          dateScanned        finishedDate          modifyDate  \\\n",
       "0 2021-01-03 15:25:31 2021-01-03 15:25:31 2021-01-03 15:25:36   \n",
       "1 2021-01-03 15:24:43 2021-01-03 15:24:43 2021-01-03 15:24:48   \n",
       "2 2021-01-03 15:25:37                 NaT 2021-01-03 15:25:42   \n",
       "3 2021-01-03 15:25:34 2021-01-03 15:25:34 2021-01-03 15:25:39   \n",
       "4 2021-01-03 15:25:06 2021-01-03 15:25:11 2021-01-03 15:25:11   \n",
       "\n",
       "    pointsAwardedDate        purchaseDate  \n",
       "0 2021-01-03 15:25:31 2021-01-03 00:00:00  \n",
       "1 2021-01-03 15:24:43 2021-01-02 15:24:43  \n",
       "2                 NaT 2021-01-03 00:00:00  \n",
       "3 2021-01-03 15:25:34 2021-01-03 00:00:00  \n",
       "4 2021-01-03 15:25:06 2021-01-02 15:25:06  "
      ]
     },
     "execution_count": 7,
     "metadata": {},
     "output_type": "execute_result"
    }
   ],
   "source": [
    "# drop columns from df_receipt\n",
    "df_receipt.drop(['createDate.$date','dateScanned.$date','finishedDate.$date','modifyDate.$date','pointsAwardedDate.$date','purchaseDate.$date','rewardsReceiptItemList','rewardsReceiptStatus','bonusPointsEarnedReason'], axis=1, inplace=True)\n",
    "df_receipt.head()"
   ]
  },
  {
   "cell_type": "markdown",
   "metadata": {},
   "source": [
    "Brands Data"
   ]
  },
  {
   "cell_type": "code",
   "execution_count": 8,
   "metadata": {},
   "outputs": [
    {
     "data": {
      "text/html": [
       "<div>\n",
       "<style scoped>\n",
       "    .dataframe tbody tr th:only-of-type {\n",
       "        vertical-align: middle;\n",
       "    }\n",
       "\n",
       "    .dataframe tbody tr th {\n",
       "        vertical-align: top;\n",
       "    }\n",
       "\n",
       "    .dataframe thead th {\n",
       "        text-align: right;\n",
       "    }\n",
       "</style>\n",
       "<table border=\"1\" class=\"dataframe\">\n",
       "  <thead>\n",
       "    <tr style=\"text-align: right;\">\n",
       "      <th></th>\n",
       "      <th>barcode</th>\n",
       "      <th>category</th>\n",
       "      <th>categoryCode</th>\n",
       "      <th>name</th>\n",
       "      <th>topBrand</th>\n",
       "      <th>brand_id</th>\n",
       "      <th>cpg</th>\n",
       "      <th>ref</th>\n",
       "      <th>brandCode</th>\n",
       "    </tr>\n",
       "  </thead>\n",
       "  <tbody>\n",
       "    <tr>\n",
       "      <th>0</th>\n",
       "      <td>511111019862</td>\n",
       "      <td>Baking</td>\n",
       "      <td>BAKING</td>\n",
       "      <td>test brand @1612366101024</td>\n",
       "      <td>False</td>\n",
       "      <td>601ac115be37ce2ead437551</td>\n",
       "      <td>601ac114be37ce2ead437550</td>\n",
       "      <td>Cogs</td>\n",
       "      <td>NaN</td>\n",
       "    </tr>\n",
       "    <tr>\n",
       "      <th>1</th>\n",
       "      <td>511111519928</td>\n",
       "      <td>Beverages</td>\n",
       "      <td>BEVERAGES</td>\n",
       "      <td>Starbucks</td>\n",
       "      <td>False</td>\n",
       "      <td>601c5460be37ce2ead43755f</td>\n",
       "      <td>5332f5fbe4b03c9a25efd0ba</td>\n",
       "      <td>Cogs</td>\n",
       "      <td>STARBUCKS</td>\n",
       "    </tr>\n",
       "    <tr>\n",
       "      <th>2</th>\n",
       "      <td>511111819905</td>\n",
       "      <td>Baking</td>\n",
       "      <td>BAKING</td>\n",
       "      <td>test brand @1612366146176</td>\n",
       "      <td>False</td>\n",
       "      <td>601ac142be37ce2ead43755d</td>\n",
       "      <td>601ac142be37ce2ead437559</td>\n",
       "      <td>Cogs</td>\n",
       "      <td>TEST BRANDCODE @1612366146176</td>\n",
       "    </tr>\n",
       "    <tr>\n",
       "      <th>3</th>\n",
       "      <td>511111519874</td>\n",
       "      <td>Baking</td>\n",
       "      <td>BAKING</td>\n",
       "      <td>test brand @1612366146051</td>\n",
       "      <td>False</td>\n",
       "      <td>601ac142be37ce2ead43755a</td>\n",
       "      <td>601ac142be37ce2ead437559</td>\n",
       "      <td>Cogs</td>\n",
       "      <td>TEST BRANDCODE @1612366146051</td>\n",
       "    </tr>\n",
       "    <tr>\n",
       "      <th>4</th>\n",
       "      <td>511111319917</td>\n",
       "      <td>Candy &amp; Sweets</td>\n",
       "      <td>CANDY_AND_SWEETS</td>\n",
       "      <td>test brand @1612366146827</td>\n",
       "      <td>False</td>\n",
       "      <td>601ac142be37ce2ead43755e</td>\n",
       "      <td>5332fa12e4b03c9a25efd1e7</td>\n",
       "      <td>Cogs</td>\n",
       "      <td>TEST BRANDCODE @1612366146827</td>\n",
       "    </tr>\n",
       "  </tbody>\n",
       "</table>\n",
       "</div>"
      ],
      "text/plain": [
       "        barcode        category      categoryCode                       name  \\\n",
       "0  511111019862          Baking            BAKING  test brand @1612366101024   \n",
       "1  511111519928       Beverages         BEVERAGES                  Starbucks   \n",
       "2  511111819905          Baking            BAKING  test brand @1612366146176   \n",
       "3  511111519874          Baking            BAKING  test brand @1612366146051   \n",
       "4  511111319917  Candy & Sweets  CANDY_AND_SWEETS  test brand @1612366146827   \n",
       "\n",
       "  topBrand                  brand_id                       cpg   ref  \\\n",
       "0    False  601ac115be37ce2ead437551  601ac114be37ce2ead437550  Cogs   \n",
       "1    False  601c5460be37ce2ead43755f  5332f5fbe4b03c9a25efd0ba  Cogs   \n",
       "2    False  601ac142be37ce2ead43755d  601ac142be37ce2ead437559  Cogs   \n",
       "3    False  601ac142be37ce2ead43755a  601ac142be37ce2ead437559  Cogs   \n",
       "4    False  601ac142be37ce2ead43755e  5332fa12e4b03c9a25efd1e7  Cogs   \n",
       "\n",
       "                       brandCode  \n",
       "0                            NaN  \n",
       "1                      STARBUCKS  \n",
       "2  TEST BRANDCODE @1612366146176  \n",
       "3  TEST BRANDCODE @1612366146051  \n",
       "4  TEST BRANDCODE @1612366146827  "
      ]
     },
     "execution_count": 8,
     "metadata": {},
     "output_type": "execute_result"
    }
   ],
   "source": [
    "brands = []\n",
    "with open('data/brands.json', 'r') as file:\n",
    "    for line in file:\n",
    "        brands.append(json.loads(line))\n",
    "        \n",
    "df_brands = pd.json_normalize(brands)\n",
    "df_brands.rename(columns={'_id.$oid':'brand_id','cpg.$id.$oid':'cpg','cpg.$ref':'ref'}, inplace=True)\n",
    "df_brands.head()"
   ]
  },
  {
   "cell_type": "markdown",
   "metadata": {},
   "source": [
    "Users Data"
   ]
  },
  {
   "cell_type": "code",
   "execution_count": 9,
   "metadata": {},
   "outputs": [
    {
     "data": {
      "text/html": [
       "<div>\n",
       "<style scoped>\n",
       "    .dataframe tbody tr th:only-of-type {\n",
       "        vertical-align: middle;\n",
       "    }\n",
       "\n",
       "    .dataframe tbody tr th {\n",
       "        vertical-align: top;\n",
       "    }\n",
       "\n",
       "    .dataframe thead th {\n",
       "        text-align: right;\n",
       "    }\n",
       "</style>\n",
       "<table border=\"1\" class=\"dataframe\">\n",
       "  <thead>\n",
       "    <tr style=\"text-align: right;\">\n",
       "      <th></th>\n",
       "      <th>active</th>\n",
       "      <th>role</th>\n",
       "      <th>signUpSource</th>\n",
       "      <th>state</th>\n",
       "      <th>user_id</th>\n",
       "      <th>createdDate</th>\n",
       "      <th>lastLogin</th>\n",
       "    </tr>\n",
       "  </thead>\n",
       "  <tbody>\n",
       "    <tr>\n",
       "      <th>0</th>\n",
       "      <td>True</td>\n",
       "      <td>consumer</td>\n",
       "      <td>Email</td>\n",
       "      <td>WI</td>\n",
       "      <td>5ff1e194b6a9d73a3a9f1052</td>\n",
       "      <td>2021-01-03 15:24:04.800</td>\n",
       "      <td>2021-01-03 15:25:37.857999872</td>\n",
       "    </tr>\n",
       "    <tr>\n",
       "      <th>1</th>\n",
       "      <td>True</td>\n",
       "      <td>consumer</td>\n",
       "      <td>Email</td>\n",
       "      <td>WI</td>\n",
       "      <td>5ff1e194b6a9d73a3a9f1052</td>\n",
       "      <td>2021-01-03 15:24:04.800</td>\n",
       "      <td>2021-01-03 15:25:37.857999872</td>\n",
       "    </tr>\n",
       "    <tr>\n",
       "      <th>2</th>\n",
       "      <td>True</td>\n",
       "      <td>consumer</td>\n",
       "      <td>Email</td>\n",
       "      <td>WI</td>\n",
       "      <td>5ff1e194b6a9d73a3a9f1052</td>\n",
       "      <td>2021-01-03 15:24:04.800</td>\n",
       "      <td>2021-01-03 15:25:37.857999872</td>\n",
       "    </tr>\n",
       "    <tr>\n",
       "      <th>3</th>\n",
       "      <td>True</td>\n",
       "      <td>consumer</td>\n",
       "      <td>Email</td>\n",
       "      <td>WI</td>\n",
       "      <td>5ff1e1eacfcf6c399c274ae6</td>\n",
       "      <td>2021-01-03 15:25:30.554</td>\n",
       "      <td>2021-01-03 15:25:30.596999936</td>\n",
       "    </tr>\n",
       "    <tr>\n",
       "      <th>4</th>\n",
       "      <td>True</td>\n",
       "      <td>consumer</td>\n",
       "      <td>Email</td>\n",
       "      <td>WI</td>\n",
       "      <td>5ff1e194b6a9d73a3a9f1052</td>\n",
       "      <td>2021-01-03 15:24:04.800</td>\n",
       "      <td>2021-01-03 15:25:37.857999872</td>\n",
       "    </tr>\n",
       "  </tbody>\n",
       "</table>\n",
       "</div>"
      ],
      "text/plain": [
       "   active      role signUpSource state                   user_id  \\\n",
       "0    True  consumer        Email    WI  5ff1e194b6a9d73a3a9f1052   \n",
       "1    True  consumer        Email    WI  5ff1e194b6a9d73a3a9f1052   \n",
       "2    True  consumer        Email    WI  5ff1e194b6a9d73a3a9f1052   \n",
       "3    True  consumer        Email    WI  5ff1e1eacfcf6c399c274ae6   \n",
       "4    True  consumer        Email    WI  5ff1e194b6a9d73a3a9f1052   \n",
       "\n",
       "              createdDate                     lastLogin  \n",
       "0 2021-01-03 15:24:04.800 2021-01-03 15:25:37.857999872  \n",
       "1 2021-01-03 15:24:04.800 2021-01-03 15:25:37.857999872  \n",
       "2 2021-01-03 15:24:04.800 2021-01-03 15:25:37.857999872  \n",
       "3 2021-01-03 15:25:30.554 2021-01-03 15:25:30.596999936  \n",
       "4 2021-01-03 15:24:04.800 2021-01-03 15:25:37.857999872  "
      ]
     },
     "execution_count": 9,
     "metadata": {},
     "output_type": "execute_result"
    }
   ],
   "source": [
    "# Check for duplicate ID in USers table\n",
    "users = []\n",
    "with open('data/users.json', 'r') as file:\n",
    "    for line in file:\n",
    "        users.append(json.loads(line))\n",
    "df_users = pd.json_normalize(users)\n",
    "df_users['createdDate'] = pd.to_datetime(df_users['createdDate.$date'],unit='ms')\n",
    "df_users['lastLogin'] = pd.to_datetime(df_users['lastLogin.$date'],unit='ms')\n",
    "df_users.rename(columns={'_id.$oid':'user_id'}, inplace=True)\n",
    "df_users.drop(['createdDate.$date','lastLogin.$date'], axis=1,inplace=True)\n",
    "df_users.head()"
   ]
  },
  {
   "cell_type": "markdown",
   "metadata": {},
   "source": [
    "# Create SQLite DB and Insert data"
   ]
  },
  {
   "cell_type": "code",
   "execution_count": 10,
   "metadata": {},
   "outputs": [],
   "source": [
    "engine = sqlalchemy.create_engine('sqlite:///fetch_rewards_exc.db', echo = True) "
   ]
  },
  {
   "cell_type": "code",
   "execution_count": 11,
   "metadata": {},
   "outputs": [
    {
     "name": "stdout",
     "output_type": "stream",
     "text": [
      "2024-12-17 14:27:43,141 INFO sqlalchemy.engine.Engine BEGIN (implicit)\n",
      "2024-12-17 14:27:43,154 INFO sqlalchemy.engine.Engine PRAGMA main.table_info(\"receipts_fact\")\n",
      "2024-12-17 14:27:43,156 INFO sqlalchemy.engine.Engine [raw sql] ()\n",
      "2024-12-17 14:27:43,158 INFO sqlalchemy.engine.Engine PRAGMA temp.table_info(\"receipts_fact\")\n",
      "2024-12-17 14:27:43,159 INFO sqlalchemy.engine.Engine [raw sql] ()\n",
      "2024-12-17 14:27:43,163 INFO sqlalchemy.engine.Engine \n",
      "CREATE TABLE receipts_fact (\n",
      "\t\"index\" BIGINT, \n",
      "\t\"bonusPointsEarned\" FLOAT, \n",
      "\t\"pointsEarned\" FLOAT, \n",
      "\t\"purchasedItemCount\" FLOAT, \n",
      "\t\"totalSpent\" FLOAT, \n",
      "\t\"userId\" TEXT, \n",
      "\treceipt_id TEXT, \n",
      "\t\"createDate\" DATETIME, \n",
      "\t\"dateScanned\" DATETIME, \n",
      "\t\"finishedDate\" DATETIME, \n",
      "\t\"modifyDate\" DATETIME, \n",
      "\t\"pointsAwardedDate\" DATETIME, \n",
      "\t\"purchaseDate\" DATETIME\n",
      ")\n",
      "\n",
      "\n",
      "2024-12-17 14:27:43,164 INFO sqlalchemy.engine.Engine [no key 0.00112s] ()\n",
      "2024-12-17 14:27:43,168 INFO sqlalchemy.engine.Engine CREATE INDEX ix_receipts_fact_index ON receipts_fact (\"index\")\n",
      "2024-12-17 14:27:43,170 INFO sqlalchemy.engine.Engine [no key 0.00167s] ()\n",
      "2024-12-17 14:27:43,238 INFO sqlalchemy.engine.Engine INSERT INTO receipts_fact (\"index\", \"bonusPointsEarned\", \"pointsEarned\", \"purchasedItemCount\", \"totalSpent\", \"userId\", receipt_id, \"createDate\", \"dateScanned\", \"finishedDate\", \"modifyDate\", \"pointsAwardedDate\", \"purchaseDate\") VALUES (?, ?, ?, ?, ?, ?, ?, ?, ?, ?, ?, ?, ?)\n",
      "2024-12-17 14:27:43,268 INFO sqlalchemy.engine.Engine [generated in 0.08052s] [(0, 500.0, 500.0, 5.0, 26.0, '5ff1e1eacfcf6c399c274ae6', '5ff1e1eb0a720f0523000575', '2021-01-03 15:25:31.000000', '2021-01-03 15:25:31.000000', '2021-01-03 15:25:31.000000', '2021-01-03 15:25:36.000000', '2021-01-03 15:25:31.000000', '2021-01-03 00:00:00.000000'), (1, 150.0, 150.0, 2.0, 11.0, '5ff1e194b6a9d73a3a9f1052', '5ff1e1bb0a720f052300056b', '2021-01-03 15:24:43.000000', '2021-01-03 15:24:43.000000', '2021-01-03 15:24:43.000000', '2021-01-03 15:24:48.000000', '2021-01-03 15:24:43.000000', '2021-01-02 15:24:43.000000'), (2, 5.0, 5.0, 1.0, 10.0, '5ff1e1f1cfcf6c399c274b0b', '5ff1e1f10a720f052300057a', '2021-01-03 15:25:37.000000', '2021-01-03 15:25:37.000000', None, '2021-01-03 15:25:42.000000', None, '2021-01-03 00:00:00.000000'), (3, 5.0, 5.0, 4.0, 28.0, '5ff1e1eacfcf6c399c274ae6', '5ff1e1ee0a7214ada100056f', '2021-01-03 15:25:34.000000', '2021-01-03 15:25:34.000000', '2021-01-03 15:25:34.000000', '2021-01-03 15:25:39.000000', '2021-01-03 15:25:34.000000', '2021-01-03 00:00:00.000000'), (4, 5.0, 5.0, 2.0, 1.0, '5ff1e194b6a9d73a3a9f1052', '5ff1e1d20a7214ada1000561', '2021-01-03 15:25:06.000000', '2021-01-03 15:25:06.000000', '2021-01-03 15:25:11.000000', '2021-01-03 15:25:11.000000', '2021-01-03 15:25:06.000000', '2021-01-02 15:25:06.000000'), (5, 750.0, 750.0, 1.0, 3.25, '5ff1e1e4cfcf6c399c274ac3', '5ff1e1e40a7214ada1000566', '2021-01-03 15:25:24.000000', '2021-01-03 15:25:24.000000', '2021-01-03 15:25:25.000000', '2021-01-03 15:25:30.000000', '2021-01-03 15:25:25.000000', '2021-01-02 15:25:24.000000'), (6, 5.0, 5.0, 1.0, 2.23, '5ff1e194b6a9d73a3a9f1052', '5ff1e1cd0a720f052300056f', '2021-01-03 15:25:01.000000', '2021-01-03 15:25:01.000000', '2021-01-03 15:25:02.000000', '2021-01-03 15:25:02.000000', '2021-01-03 15:25:02.000000', '2021-01-03 15:25:01.000000'), (7, 500.0, 500.0, 1.0, 10.0, '5ff1e194b6a9d73a3a9f1052', '5ff1e1a40a720f0523000569', '2021-01-03 15:24:20.000000', '2021-01-03 15:24:20.000000', '2021-01-03 15:24:21.000000', '2021-01-03 15:24:21.000000', '2021-01-03 15:24:21.000000', '2020-12-27 00:00:00.000000')  ... displaying 10 of 1119 total bound parameter sets ...  (1117, 25.0, 25.0, 2.0, 34.96, '5fc961c3b8cfca11a077dd33', '603ce7100a7217c72c000405', '2021-03-01 13:07:28.000000', '2021-03-01 13:07:28.000000', None, '2021-03-01 13:07:29.000000', None, '2020-08-17 00:00:00.000000'), (1118, None, None, None, None, '5fc961c3b8cfca11a077dd33', '603c4fea0a7217c72c000389', '2021-03-01 02:22:34.962000', '2021-03-01 02:22:34.962000', None, '2021-03-01 02:22:34.962000', None, None)]\n",
      "2024-12-17 14:27:43,274 INFO sqlalchemy.engine.Engine COMMIT\n",
      "2024-12-17 14:27:43,291 INFO sqlalchemy.engine.Engine BEGIN (implicit)\n",
      "2024-12-17 14:27:43,298 INFO sqlalchemy.engine.Engine PRAGMA main.table_info(\"item_list_dim\")\n",
      "2024-12-17 14:27:43,299 INFO sqlalchemy.engine.Engine [raw sql] ()\n",
      "2024-12-17 14:27:43,301 INFO sqlalchemy.engine.Engine PRAGMA temp.table_info(\"item_list_dim\")\n",
      "2024-12-17 14:27:43,302 INFO sqlalchemy.engine.Engine [raw sql] ()\n",
      "2024-12-17 14:27:43,305 INFO sqlalchemy.engine.Engine \n",
      "CREATE TABLE item_list_dim (\n",
      "\t\"index\" BIGINT, \n",
      "\tbarcode TEXT, \n",
      "\tdescription TEXT, \n",
      "\t\"finalPrice\" TEXT, \n",
      "\t\"itemPrice\" TEXT, \n",
      "\t\"needsFetchReview\" BOOLEAN, \n",
      "\t\"partnerItemId\" TEXT, \n",
      "\t\"preventTargetGapPoints\" BOOLEAN, \n",
      "\t\"quantityPurchased\" FLOAT, \n",
      "\t\"userFlaggedBarcode\" TEXT, \n",
      "\t\"userFlaggedNewItem\" BOOLEAN, \n",
      "\t\"userFlaggedPrice\" TEXT, \n",
      "\t\"userFlaggedQuantity\" FLOAT, \n",
      "\t\"needsFetchReviewReason\" TEXT, \n",
      "\t\"pointsNotAwardedReason\" TEXT, \n",
      "\t\"pointsPayerId\" TEXT, \n",
      "\t\"rewardsGroup\" TEXT, \n",
      "\t\"rewardsProductPartnerId\" TEXT, \n",
      "\t\"userFlaggedDescription\" TEXT, \n",
      "\t\"originalMetaBriteBarcode\" TEXT, \n",
      "\t\"originalMetaBriteDescription\" TEXT, \n",
      "\t\"brandCode\" TEXT, \n",
      "\t\"competitorRewardsGroup\" TEXT, \n",
      "\t\"discountedItemPrice\" TEXT, \n",
      "\t\"originalReceiptItemText\" TEXT, \n",
      "\t\"itemNumber\" TEXT, \n",
      "\t\"originalMetaBriteQuantityPurchased\" FLOAT, \n",
      "\t\"pointsEarned\" TEXT, \n",
      "\t\"targetPrice\" TEXT, \n",
      "\t\"competitiveProduct\" BOOLEAN, \n",
      "\t\"originalFinalPrice\" TEXT, \n",
      "\t\"originalMetaBriteItemPrice\" TEXT, \n",
      "\tdeleted BOOLEAN, \n",
      "\t\"priceAfterCoupon\" TEXT, \n",
      "\t\"metabriteCampaignId\" TEXT, \n",
      "\treceipt_id TEXT\n",
      ")\n",
      "\n",
      "\n",
      "2024-12-17 14:27:43,306 INFO sqlalchemy.engine.Engine [no key 0.00100s] ()\n",
      "2024-12-17 14:27:43,309 INFO sqlalchemy.engine.Engine CREATE INDEX ix_item_list_dim_index ON item_list_dim (\"index\")\n",
      "2024-12-17 14:27:43,310 INFO sqlalchemy.engine.Engine [no key 0.00067s] ()\n",
      "2024-12-17 14:27:43,455 INFO sqlalchemy.engine.Engine INSERT INTO item_list_dim (\"index\", barcode, description, \"finalPrice\", \"itemPrice\", \"needsFetchReview\", \"partnerItemId\", \"preventTargetGapPoints\", \"quantityPurchased\", \"userFlaggedBarcode\", \"userFlaggedNewItem\", \"userFlaggedPrice\", \"userFlaggedQuantity\", \"needsFetchReviewReason\", \"pointsNotAwardedReason\", \"pointsPayerId\", \"rewardsGroup\", \"rewardsProductPartnerId\", \"userFlaggedDescription\", \"originalMetaBriteBarcode\", \"originalMetaBriteDescription\", \"brandCode\", \"competitorRewardsGroup\", \"discountedItemPrice\", \"originalReceiptItemText\", \"itemNumber\", \"originalMetaBriteQuantityPurchased\", \"pointsEarned\", \"targetPrice\", \"competitiveProduct\", \"originalFinalPrice\", \"originalMetaBriteItemPrice\", deleted, \"priceAfterCoupon\", \"metabriteCampaignId\", receipt_id) VALUES (?, ?, ?, ?, ?, ?, ?, ?, ?, ?, ?, ?, ?, ?, ?, ?, ?, ?, ?, ?, ?, ?, ?, ?, ?, ?, ?, ?, ?, ?, ?, ?, ?, ?, ?, ?)\n",
      "2024-12-17 14:27:43,456 INFO sqlalchemy.engine.Engine [generated in 0.09922s] [(0, '4011', 'ITEM NOT FOUND', '26.00', '26.00', 0, '1', 1, 5.0, '4011', 1, '26.00', 5.0, None, None, None, None, None, None, None, None, None, None, None, None, None, None, None, None, None, None, None, None, None, None, '5ff1e1eb0a720f0523000575'), (1, '4011', 'ITEM NOT FOUND', '1', '1', None, '1', None, 1.0, None, None, None, None, None, None, None, None, None, None, None, None, None, None, None, None, None, None, None, None, None, None, None, None, None, None, '5ff1e1bb0a720f052300056b'), (2, '028400642255', 'DORITOS TORTILLA CHIP SPICY SWEET CHILI REDUCED FAT BAG 1 OZ', '10.00', '10.00', 1, '2', 1, 1.0, '028400642255', 1, '10.00', 1.0, 'USER_FLAGGED', 'Action not allowed for user and CPG', '5332f5fbe4b03c9a25efd0ba', 'DORITOS SPICY SWEET CHILI SINGLE SERVE', '5332f5fbe4b03c9a25efd0ba', 'DORITOS TORTILLA CHIP SPICY SWEET CHILI REDUCED FAT BAG 1 OZ', None, None, None, None, None, None, None, None, None, None, None, None, None, None, None, None, '5ff1e1bb0a720f052300056b'), (3, None, None, None, None, 0, '1', 1, None, '4011', 1, '26.00', 3.0, None, None, None, None, None, None, None, None, None, None, None, None, None, None, None, None, None, None, None, None, None, None, '5ff1e1f10a720f052300057a'), (4, '4011', 'ITEM NOT FOUND', '28.00', '28.00', 0, '1', 1, 4.0, '4011', 1, '28.00', 4.0, None, None, None, None, None, None, None, None, None, None, None, None, None, None, None, None, None, None, None, None, None, None, '5ff1e1ee0a7214ada100056f'), (5, '4011', 'ITEM NOT FOUND', '1', '1', None, '1', None, 1.0, None, None, None, None, None, None, None, None, None, None, None, None, None, None, None, None, None, None, None, None, None, None, None, None, None, None, '5ff1e1d20a7214ada1000561'), (6, '1234', None, '2.56', '2.56', 1, '2', 1, 3.0, '1234', 1, '2.56', 3.0, 'USER_FLAGGED', None, None, None, None, '', None, None, None, None, None, None, None, None, None, None, None, None, None, None, None, None, '5ff1e1d20a7214ada1000561'), (7, '4011', 'ITEM NOT FOUND', '3.25', '3.25', 0, '1', 1, 1.0, '4011', None, None, None, None, 'Action not allowed for user and CPG', '5332f5fbe4b03c9a25efd0ba', 'DORITOS SPICY SWEET CHILI SINGLE SERVE', '5332f5fbe4b03c9a25efd0ba', None, '028400642255', 'DORITOS TORTILLA CHIP SPICY SWEET CHILI REDUCED FAT BAG 1 OZ', None, None, None, None, None, None, None, None, None, None, None, None, None, None, '5ff1e1e40a7214ada1000566')  ... displaying 10 of 6941 total bound parameter sets ...  (6939, 'B076FJ92M4', 'mueller austria hypergrind precision electric spice/coffee grinder millwith large grinding capacity and hd motor also for spices, herbs, nuts,grains, white', '22.97', '22.97', None, '0', None, 1.0, None, None, None, None, None, None, None, None, None, None, None, None, None, None, '22.97', 'mueller austria hypergrind precision electric spice/coffee grinder millwith large grinding capacity and hd motor also for spices, herbs, nuts,grains, white', None, None, None, None, None, None, None, None, '22.97', None, '603ce7100a7217c72c000405'), (6940, 'B07BRRLSVC', 'thindust summer face mask - sun protection neck gaiter for outdooractivities', '11.99', '11.99', None, '1', None, 1.0, None, None, None, None, None, None, None, None, None, None, None, None, None, None, '11.99', 'thindust summer face mask - sun protection neck gaiter for outdooractivities', None, None, None, None, None, None, None, None, '11.99', None, '603ce7100a7217c72c000405')]\n",
      "2024-12-17 14:27:43,536 INFO sqlalchemy.engine.Engine COMMIT\n",
      "2024-12-17 14:27:43,562 INFO sqlalchemy.engine.Engine BEGIN (implicit)\n",
      "2024-12-17 14:27:43,565 INFO sqlalchemy.engine.Engine PRAGMA main.table_info(\"brands_dim\")\n",
      "2024-12-17 14:27:43,565 INFO sqlalchemy.engine.Engine [raw sql] ()\n",
      "2024-12-17 14:27:43,566 INFO sqlalchemy.engine.Engine PRAGMA temp.table_info(\"brands_dim\")\n",
      "2024-12-17 14:27:43,567 INFO sqlalchemy.engine.Engine [raw sql] ()\n",
      "2024-12-17 14:27:43,569 INFO sqlalchemy.engine.Engine \n",
      "CREATE TABLE brands_dim (\n",
      "\t\"index\" BIGINT, \n",
      "\tbarcode TEXT, \n",
      "\tcategory TEXT, \n",
      "\t\"categoryCode\" TEXT, \n",
      "\tname TEXT, \n",
      "\t\"topBrand\" BOOLEAN, \n",
      "\tbrand_id TEXT, \n",
      "\tcpg TEXT, \n",
      "\tref TEXT, \n",
      "\t\"brandCode\" TEXT\n",
      ")\n",
      "\n",
      "\n",
      "2024-12-17 14:27:43,570 INFO sqlalchemy.engine.Engine [no key 0.00102s] ()\n",
      "2024-12-17 14:27:43,572 INFO sqlalchemy.engine.Engine CREATE INDEX ix_brands_dim_index ON brands_dim (\"index\")\n",
      "2024-12-17 14:27:43,572 INFO sqlalchemy.engine.Engine [no key 0.00051s] ()\n",
      "2024-12-17 14:27:43,621 INFO sqlalchemy.engine.Engine INSERT INTO brands_dim (\"index\", barcode, category, \"categoryCode\", name, \"topBrand\", brand_id, cpg, ref, \"brandCode\") VALUES (?, ?, ?, ?, ?, ?, ?, ?, ?, ?)\n",
      "2024-12-17 14:27:43,622 INFO sqlalchemy.engine.Engine [generated in 0.00527s] [(0, '511111019862', 'Baking', 'BAKING', 'test brand @1612366101024', 0, '601ac115be37ce2ead437551', '601ac114be37ce2ead437550', 'Cogs', None), (1, '511111519928', 'Beverages', 'BEVERAGES', 'Starbucks', 0, '601c5460be37ce2ead43755f', '5332f5fbe4b03c9a25efd0ba', 'Cogs', 'STARBUCKS'), (2, '511111819905', 'Baking', 'BAKING', 'test brand @1612366146176', 0, '601ac142be37ce2ead43755d', '601ac142be37ce2ead437559', 'Cogs', 'TEST BRANDCODE @1612366146176'), (3, '511111519874', 'Baking', 'BAKING', 'test brand @1612366146051', 0, '601ac142be37ce2ead43755a', '601ac142be37ce2ead437559', 'Cogs', 'TEST BRANDCODE @1612366146051'), (4, '511111319917', 'Candy & Sweets', 'CANDY_AND_SWEETS', 'test brand @1612366146827', 0, '601ac142be37ce2ead43755e', '5332fa12e4b03c9a25efd1e7', 'Cogs', 'TEST BRANDCODE @1612366146827'), (5, '511111719885', 'Baking', 'BAKING', 'test brand @1612366146091', 0, '601ac142be37ce2ead43755b', '601ac142be37ce2ead437559', 'Cogs', 'TEST BRANDCODE @1612366146091'), (6, '511111219897', 'Baking', 'BAKING', 'test brand @1612366146133', 0, '601ac142be37ce2ead43755c', '601ac142be37ce2ead437559', 'Cogs', 'TEST BRANDCODE @1612366146133'), (7, '511111104810', 'Condiments & Sauces', None, 'J.L. Kraft', None, '5cdad0f5166eb33eb7ce0faa', '559c2234e4b06aca36af13c6', 'Cogs', 'J.L. KRAFT')  ... displaying 10 of 1167 total bound parameter sets ...  (1165, '511111400608', 'Grocery', None, 'LIPTON TEA Leaves', 0, '5a021611e4b00efe02b02a57', '5332f5f6e4b03c9a25efd0b4', 'Cogs', 'LIPTON TEA Leaves'), (1166, '511111019930', 'Baking', 'BAKING', 'test brand @1613158231643', 0, '6026d757be37ce6369301468', '6026d757be37ce6369301467', 'Cogs', 'TEST BRANDCODE @1613158231644')]\n",
      "2024-12-17 14:27:43,626 INFO sqlalchemy.engine.Engine COMMIT\n",
      "2024-12-17 14:27:43,630 INFO sqlalchemy.engine.Engine BEGIN (implicit)\n",
      "2024-12-17 14:27:43,632 INFO sqlalchemy.engine.Engine PRAGMA main.table_info(\"users_dim\")\n",
      "2024-12-17 14:27:43,633 INFO sqlalchemy.engine.Engine [raw sql] ()\n",
      "2024-12-17 14:27:43,634 INFO sqlalchemy.engine.Engine PRAGMA temp.table_info(\"users_dim\")\n",
      "2024-12-17 14:27:43,635 INFO sqlalchemy.engine.Engine [raw sql] ()\n",
      "2024-12-17 14:27:43,637 INFO sqlalchemy.engine.Engine \n",
      "CREATE TABLE users_dim (\n",
      "\t\"index\" BIGINT, \n",
      "\tactive BOOLEAN, \n",
      "\trole TEXT, \n",
      "\t\"signUpSource\" TEXT, \n",
      "\tstate TEXT, \n",
      "\tuser_id TEXT, \n",
      "\t\"createdDate\" DATETIME, \n",
      "\t\"lastLogin\" DATETIME\n",
      ")\n",
      "\n",
      "\n",
      "2024-12-17 14:27:43,638 INFO sqlalchemy.engine.Engine [no key 0.00055s] ()\n",
      "2024-12-17 14:27:43,641 INFO sqlalchemy.engine.Engine CREATE INDEX ix_users_dim_index ON users_dim (\"index\")\n",
      "2024-12-17 14:27:43,641 INFO sqlalchemy.engine.Engine [no key 0.00058s] ()\n",
      "2024-12-17 14:27:43,649 INFO sqlalchemy.engine.Engine INSERT INTO users_dim (\"index\", active, role, \"signUpSource\", state, user_id, \"createdDate\", \"lastLogin\") VALUES (?, ?, ?, ?, ?, ?, ?, ?)\n",
      "2024-12-17 14:27:43,650 INFO sqlalchemy.engine.Engine [generated in 0.00443s] [(0, 1, 'consumer', 'Email', 'WI', '5ff1e194b6a9d73a3a9f1052', '2021-01-03 15:24:04.800000', '2021-01-03 15:25:37.857999'), (1, 1, 'consumer', 'Email', 'WI', '5ff1e194b6a9d73a3a9f1052', '2021-01-03 15:24:04.800000', '2021-01-03 15:25:37.857999'), (2, 1, 'consumer', 'Email', 'WI', '5ff1e194b6a9d73a3a9f1052', '2021-01-03 15:24:04.800000', '2021-01-03 15:25:37.857999'), (3, 1, 'consumer', 'Email', 'WI', '5ff1e1eacfcf6c399c274ae6', '2021-01-03 15:25:30.554000', '2021-01-03 15:25:30.596999'), (4, 1, 'consumer', 'Email', 'WI', '5ff1e194b6a9d73a3a9f1052', '2021-01-03 15:24:04.800000', '2021-01-03 15:25:37.857999'), (5, 1, 'consumer', 'Email', 'WI', '5ff1e194b6a9d73a3a9f1052', '2021-01-03 15:24:04.800000', '2021-01-03 15:25:37.857999'), (6, 1, 'consumer', 'Email', 'WI', '5ff1e1e8cfcf6c399c274ad9', '2021-01-03 15:25:28.354000', '2021-01-03 15:25:28.392000'), (7, 1, 'consumer', 'Email', 'WI', '5ff1e1b7cfcf6c399c274a5a', '2021-01-03 15:24:39.626000', '2021-01-03 15:24:39.664999')  ... displaying 10 of 495 total bound parameter sets ...  (493, 1, 'fetch-staff', None, None, '54943462e4b07e684157a532', '2014-12-19 14:21:22.381000', '2021-03-05 16:52:23.204000'), (494, 1, 'fetch-staff', None, None, '54943462e4b07e684157a532', '2014-12-19 14:21:22.381000', '2021-03-05 16:52:23.204000')]\n",
      "2024-12-17 14:27:43,654 INFO sqlalchemy.engine.Engine COMMIT\n",
      "2024-12-17 14:27:43,656 INFO sqlalchemy.engine.Engine BEGIN (implicit)\n",
      "2024-12-17 14:27:43,657 INFO sqlalchemy.engine.Engine PRAGMA main.table_info(\"receipt_status_dim\")\n",
      "2024-12-17 14:27:43,657 INFO sqlalchemy.engine.Engine [raw sql] ()\n",
      "2024-12-17 14:27:43,658 INFO sqlalchemy.engine.Engine PRAGMA temp.table_info(\"receipt_status_dim\")\n",
      "2024-12-17 14:27:43,658 INFO sqlalchemy.engine.Engine [raw sql] ()\n",
      "2024-12-17 14:27:43,659 INFO sqlalchemy.engine.Engine \n",
      "CREATE TABLE receipt_status_dim (\n",
      "\t\"index\" BIGINT, \n",
      "\treceipt_id TEXT, \n",
      "\t\"rewardsReceiptStatus\" TEXT\n",
      ")\n",
      "\n",
      "\n",
      "2024-12-17 14:27:43,660 INFO sqlalchemy.engine.Engine [no key 0.00055s] ()\n",
      "2024-12-17 14:27:43,663 INFO sqlalchemy.engine.Engine CREATE INDEX ix_receipt_status_dim_index ON receipt_status_dim (\"index\")\n",
      "2024-12-17 14:27:43,664 INFO sqlalchemy.engine.Engine [no key 0.00109s] ()\n",
      "2024-12-17 14:27:43,671 INFO sqlalchemy.engine.Engine INSERT INTO receipt_status_dim (\"index\", receipt_id, \"rewardsReceiptStatus\") VALUES (?, ?, ?)\n",
      "2024-12-17 14:27:43,671 INFO sqlalchemy.engine.Engine [generated in 0.00255s] [(0, '5ff1e1eb0a720f0523000575', 'FINISHED'), (1, '5ff1e1bb0a720f052300056b', 'FINISHED'), (2, '5ff1e1f10a720f052300057a', 'REJECTED'), (3, '5ff1e1ee0a7214ada100056f', 'FINISHED'), (4, '5ff1e1d20a7214ada1000561', 'FINISHED'), (5, '5ff1e1e40a7214ada1000566', 'FINISHED'), (6, '5ff1e1cd0a720f052300056f', 'FINISHED'), (7, '5ff1e1a40a720f0523000569', 'FINISHED')  ... displaying 10 of 1119 total bound parameter sets ...  (1117, '603ce7100a7217c72c000405', 'REJECTED'), (1118, '603c4fea0a7217c72c000389', 'SUBMITTED')]\n",
      "2024-12-17 14:27:43,675 INFO sqlalchemy.engine.Engine COMMIT\n",
      "2024-12-17 14:27:43,677 INFO sqlalchemy.engine.Engine BEGIN (implicit)\n",
      "2024-12-17 14:27:43,679 INFO sqlalchemy.engine.Engine PRAGMA main.table_info(\"bp_reason_dim\")\n",
      "2024-12-17 14:27:43,680 INFO sqlalchemy.engine.Engine [raw sql] ()\n",
      "2024-12-17 14:27:43,681 INFO sqlalchemy.engine.Engine PRAGMA temp.table_info(\"bp_reason_dim\")\n",
      "2024-12-17 14:27:43,681 INFO sqlalchemy.engine.Engine [raw sql] ()\n",
      "2024-12-17 14:27:43,683 INFO sqlalchemy.engine.Engine \n",
      "CREATE TABLE bp_reason_dim (\n",
      "\t\"index\" BIGINT, \n",
      "\treceipt_id TEXT, \n",
      "\t\"bonusPointsEarnedReason\" TEXT\n",
      ")\n",
      "\n",
      "\n",
      "2024-12-17 14:27:43,687 INFO sqlalchemy.engine.Engine [no key 0.00472s] ()\n",
      "2024-12-17 14:27:43,691 INFO sqlalchemy.engine.Engine CREATE INDEX ix_bp_reason_dim_index ON bp_reason_dim (\"index\")\n",
      "2024-12-17 14:27:43,692 INFO sqlalchemy.engine.Engine [no key 0.00077s] ()\n",
      "2024-12-17 14:27:43,699 INFO sqlalchemy.engine.Engine INSERT INTO bp_reason_dim (\"index\", receipt_id, \"bonusPointsEarnedReason\") VALUES (?, ?, ?)\n",
      "2024-12-17 14:27:43,703 INFO sqlalchemy.engine.Engine [generated in 0.00640s] [(0, '5ff1e1eb0a720f0523000575', 'Receipt number 2 completed, bonus point schedule DEFAULT (5cefdcacf3693e0b50e83a36)'), (1, '5ff1e1bb0a720f052300056b', 'Receipt number 5 completed, bonus point schedule DEFAULT (5cefdcacf3693e0b50e83a36)'), (2, '5ff1e1f10a720f052300057a', 'All-receipts receipt bonus'), (3, '5ff1e1ee0a7214ada100056f', 'All-receipts receipt bonus'), (4, '5ff1e1d20a7214ada1000561', 'All-receipts receipt bonus'), (5, '5ff1e1e40a7214ada1000566', 'Receipt number 1 completed, bonus point schedule DEFAULT (5cefdcacf3693e0b50e83a36)'), (6, '5ff1e1cd0a720f052300056f', 'All-receipts receipt bonus'), (7, '5ff1e1a40a720f0523000569', 'Receipt number 2 completed, bonus point schedule DEFAULT (5cefdcacf3693e0b50e83a36)')  ... displaying 10 of 1119 total bound parameter sets ...  (1117, '603ce7100a7217c72c000405', 'COMPLETE_NONPARTNER_RECEIPT'), (1118, '603c4fea0a7217c72c000389', None)]\n",
      "2024-12-17 14:27:43,707 INFO sqlalchemy.engine.Engine COMMIT\n"
     ]
    },
    {
     "data": {
      "text/plain": [
       "1119"
      ]
     },
     "execution_count": 11,
     "metadata": {},
     "output_type": "execute_result"
    }
   ],
   "source": [
    "df_receipt.to_sql('receipts_fact', con=engine, if_exists='replace')\n",
    "df_receipt_item.to_sql('item_list_dim', con=engine, if_exists='replace')\n",
    "df_brands.to_sql('brands_dim', con=engine, if_exists='replace')\n",
    "df_users.to_sql('users_dim', con=engine, if_exists='replace')\n",
    "df_receipt_status.to_sql('receipt_status_dim', con=engine, if_exists='replace')\n",
    "df_bp_reason.to_sql('bp_reason_dim', con=engine, if_exists='replace')"
   ]
  },
  {
   "cell_type": "markdown",
   "metadata": {},
   "source": [
    "Connect to DB"
   ]
  },
  {
   "cell_type": "code",
   "execution_count": 12,
   "metadata": {},
   "outputs": [
    {
     "data": {
      "text/html": [
       "<span style=\"None\">Connecting to &#x27;sqlite:///fetch_rewards_exc.db&#x27;</span>"
      ],
      "text/plain": [
       "Connecting to 'sqlite:///fetch_rewards_exc.db'"
      ]
     },
     "metadata": {},
     "output_type": "display_data"
    }
   ],
   "source": [
    "%load_ext sql\n",
    "%sql sqlite:///fetch_rewards_exc.db"
   ]
  },
  {
   "cell_type": "markdown",
   "metadata": {},
   "source": [
    "# SQL Queries"
   ]
  },
  {
   "cell_type": "markdown",
   "metadata": {},
   "source": [
    "Query 1: What are the top 5 brands by receipts scanned for most recent month?"
   ]
  },
  {
   "cell_type": "markdown",
   "metadata": {},
   "source": [
    "Note: Both queries that provide Top 5 'TopBrand' and Top 5 Brands that were bought most frequently are included."
   ]
  },
  {
   "cell_type": "code",
   "execution_count": 13,
   "metadata": {},
   "outputs": [
    {
     "data": {
      "text/html": [
       "<span style=\"None\">Running query in &#x27;sqlite:///fetch_rewards_exc.db&#x27;</span>"
      ],
      "text/plain": [
       "Running query in 'sqlite:///fetch_rewards_exc.db'"
      ]
     },
     "metadata": {},
     "output_type": "display_data"
    },
    {
     "data": {
      "text/html": [
       "<table>\n",
       "    <thead>\n",
       "        <tr>\n",
       "            <th>name</th>\n",
       "            <th>receipt_count</th>\n",
       "        </tr>\n",
       "    </thead>\n",
       "    <tbody>\n",
       "    </tbody>\n",
       "</table>"
      ],
      "text/plain": [
       "+------+---------------+\n",
       "| name | receipt_count |\n",
       "+------+---------------+\n",
       "+------+---------------+"
      ]
     },
     "execution_count": 13,
     "metadata": {},
     "output_type": "execute_result"
    }
   ],
   "source": [
    "%%sql\n",
    "with cte_brands as (select barcode, name from brands_dim where topBrand is True group by 1,2) -- 'Top Brand' is True\n",
    "\n",
    "select name, count(distinct receipt_id) as receipt_count\n",
    "from item_list_dim d\n",
    "join cte_brands b on d.barcode = b.barcode\n",
    "where receipt_id in (select receipt_id from receipts_fact where strftime('%Y-%m', date(dateScanned)) in (select strftime('%Y-%m', max(date(dateScanned))) from receipts_fact) group by 1)\n",
    "group by 1\n",
    "order by 2 desc\n",
    "limit 5;"
   ]
  },
  {
   "cell_type": "code",
   "execution_count": 14,
   "metadata": {},
   "outputs": [
    {
     "data": {
      "text/html": [
       "<span style=\"None\">Running query in &#x27;sqlite:///fetch_rewards_exc.db&#x27;</span>"
      ],
      "text/plain": [
       "Running query in 'sqlite:///fetch_rewards_exc.db'"
      ]
     },
     "metadata": {},
     "output_type": "display_data"
    },
    {
     "data": {
      "text/html": [
       "<table>\n",
       "    <thead>\n",
       "        <tr>\n",
       "            <th>barcode</th>\n",
       "            <th>name</th>\n",
       "            <th>receipt_count</th>\n",
       "        </tr>\n",
       "    </thead>\n",
       "    <tbody>\n",
       "        <tr>\n",
       "            <td>B07BRRLSVC</td>\n",
       "            <td>None</td>\n",
       "            <td>13</td>\n",
       "        </tr>\n",
       "        <tr>\n",
       "            <td>B076FJ92M4</td>\n",
       "            <td>None</td>\n",
       "            <td>13</td>\n",
       "        </tr>\n",
       "    </tbody>\n",
       "</table>"
      ],
      "text/plain": [
       "+------------+------+---------------+\n",
       "|  barcode   | name | receipt_count |\n",
       "+------------+------+---------------+\n",
       "| B07BRRLSVC | None |       13      |\n",
       "| B076FJ92M4 | None |       13      |\n",
       "+------------+------+---------------+"
      ]
     },
     "execution_count": 14,
     "metadata": {},
     "output_type": "execute_result"
    }
   ],
   "source": [
    "%%sql\n",
    "with cte_top as (\n",
    "    select barcode, count(distinct receipt_id) as receipt_count\n",
    "    from item_list_dim d\n",
    "    where receipt_id in (select receipt_id from receipts_fact where strftime('%Y-%m', date(dateScanned)) in (select strftime('%Y-%m', max(date(dateScanned))) from receipts_fact) group by 1)\n",
    "    group by 1\n",
    "    order by 2 desc\n",
    "    limit 5\n",
    ")\n",
    "\n",
    "select t.barcode, name, receipt_count\n",
    "from cte_top t\n",
    "left join brands_dim b on t.barcode = b.barcode;"
   ]
  },
  {
   "cell_type": "markdown",
   "metadata": {},
   "source": [
    "Query 2: How does the ranking of the top 5 brands by receipts scanned for the recent month compare to the ranking for the previous month?"
   ]
  },
  {
   "cell_type": "markdown",
   "metadata": {},
   "source": [
    "Note: Both queries that provide Top 5 'TopBrand' and Top 5 Brands that are bought most frequently are included."
   ]
  },
  {
   "cell_type": "code",
   "execution_count": 15,
   "metadata": {},
   "outputs": [
    {
     "data": {
      "text/html": [
       "<span style=\"None\">Running query in &#x27;sqlite:///fetch_rewards_exc.db&#x27;</span>"
      ],
      "text/plain": [
       "Running query in 'sqlite:///fetch_rewards_exc.db'"
      ]
     },
     "metadata": {},
     "output_type": "display_data"
    },
    {
     "data": {
      "text/html": [
       "<table>\n",
       "    <thead>\n",
       "        <tr>\n",
       "            <th>month_label</th>\n",
       "            <th>name</th>\n",
       "            <th>receipt_count</th>\n",
       "        </tr>\n",
       "    </thead>\n",
       "    <tbody>\n",
       "    </tbody>\n",
       "</table>"
      ],
      "text/plain": [
       "+-------------+------+---------------+\n",
       "| month_label | name | receipt_count |\n",
       "+-------------+------+---------------+\n",
       "+-------------+------+---------------+"
      ]
     },
     "execution_count": 15,
     "metadata": {},
     "output_type": "execute_result"
    }
   ],
   "source": [
    "%%sql\n",
    "with cte_months0 as (select strftime('%Y-%m', date(dateScanned)) as months from receipts_fact group by 1),\n",
    "\n",
    "cte_months as (select *, row_number() over(order by months desc) as rn from cte_months0),\n",
    "\n",
    "cte_brands as (select barcode, name from brands_dim where topBrand is True group by 1,2), -- 'Top Brand' is True\n",
    "\n",
    "cte_recent as (select 'recent_month' as month_label, name, count(distinct receipt_id) as receipt_count\n",
    "from item_list_dim d\n",
    "join cte_brands b on d.barcode = b.barcode\n",
    "where receipt_id in (select receipt_id from receipts_fact where strftime('%Y-%m', date(dateScanned)) in (select months from cte_months where rn = 1) group by 1)\n",
    "group by 1,2\n",
    "order by 3 desc\n",
    "limit 5),\n",
    "\n",
    "cte_previous as (select 'previous_month' as month_label, name, count(distinct receipt_id) as receipt_count\n",
    "from item_list_dim d\n",
    "join cte_brands b on d.barcode = b.barcode\n",
    "where receipt_id in (select receipt_id from receipts_fact where strftime('%Y-%m', date(dateScanned)) in (select months from cte_months where rn = 2) group by 1)\n",
    "group by 1,2\n",
    "order by 3 desc\n",
    "limit 5)\n",
    "\n",
    "select * from cte_recent\n",
    "union all\n",
    "select * from cte_previous;"
   ]
  },
  {
   "cell_type": "code",
   "execution_count": 16,
   "metadata": {},
   "outputs": [
    {
     "data": {
      "text/html": [
       "<span style=\"None\">Running query in &#x27;sqlite:///fetch_rewards_exc.db&#x27;</span>"
      ],
      "text/plain": [
       "Running query in 'sqlite:///fetch_rewards_exc.db'"
      ]
     },
     "metadata": {},
     "output_type": "display_data"
    },
    {
     "data": {
      "text/html": [
       "<table>\n",
       "    <thead>\n",
       "        <tr>\n",
       "            <th>month_label</th>\n",
       "            <th>barcode</th>\n",
       "            <th>name</th>\n",
       "            <th>receipt_count</th>\n",
       "        </tr>\n",
       "    </thead>\n",
       "    <tbody>\n",
       "        <tr>\n",
       "            <td>recent_month</td>\n",
       "            <td>B076FJ92M4</td>\n",
       "            <td>None</td>\n",
       "            <td>13</td>\n",
       "        </tr>\n",
       "        <tr>\n",
       "            <td>recent_month</td>\n",
       "            <td>B07BRRLSVC</td>\n",
       "            <td>None</td>\n",
       "            <td>13</td>\n",
       "        </tr>\n",
       "        <tr>\n",
       "            <td>previous_month</td>\n",
       "            <td>None</td>\n",
       "            <td>None</td>\n",
       "            <td>36</td>\n",
       "        </tr>\n",
       "        <tr>\n",
       "            <td>previous_month</td>\n",
       "            <td>4011</td>\n",
       "            <td>None</td>\n",
       "            <td>33</td>\n",
       "        </tr>\n",
       "        <tr>\n",
       "            <td>previous_month</td>\n",
       "            <td>B076FJ92M4</td>\n",
       "            <td>None</td>\n",
       "            <td>27</td>\n",
       "        </tr>\n",
       "        <tr>\n",
       "            <td>previous_month</td>\n",
       "            <td>B07BRRLSVC</td>\n",
       "            <td>None</td>\n",
       "            <td>27</td>\n",
       "        </tr>\n",
       "        <tr>\n",
       "            <td>previous_month</td>\n",
       "            <td>1234</td>\n",
       "            <td>None</td>\n",
       "            <td>5</td>\n",
       "        </tr>\n",
       "    </tbody>\n",
       "</table>"
      ],
      "text/plain": [
       "+----------------+------------+------+---------------+\n",
       "|  month_label   |  barcode   | name | receipt_count |\n",
       "+----------------+------------+------+---------------+\n",
       "|  recent_month  | B076FJ92M4 | None |       13      |\n",
       "|  recent_month  | B07BRRLSVC | None |       13      |\n",
       "| previous_month |    None    | None |       36      |\n",
       "| previous_month |    4011    | None |       33      |\n",
       "| previous_month | B076FJ92M4 | None |       27      |\n",
       "| previous_month | B07BRRLSVC | None |       27      |\n",
       "| previous_month |    1234    | None |       5       |\n",
       "+----------------+------------+------+---------------+"
      ]
     },
     "execution_count": 16,
     "metadata": {},
     "output_type": "execute_result"
    }
   ],
   "source": [
    "%%sql\n",
    "with cte_months0 as (select strftime('%Y-%m', date(dateScanned)) as months from receipts_fact group by 1),\n",
    "\n",
    "cte_months as (select *, row_number() over(order by months desc) as rn from cte_months0),\n",
    "\n",
    "cte_recent as (select 'recent_month' as month_label, d.barcode, name, count(distinct receipt_id) as receipt_count\n",
    "from item_list_dim d\n",
    "left join brands_dim b on d.barcode = b.barcode\n",
    "where receipt_id in (select receipt_id from receipts_fact where strftime('%Y-%m', date(dateScanned)) in (select months from cte_months where rn = 1) group by 1)\n",
    "group by 1,2,3\n",
    "order by 4 desc\n",
    "limit 5),\n",
    "\n",
    "cte_previous as (select 'previous_month' as month_label, d.barcode, name, count(distinct receipt_id) as receipt_count\n",
    "from item_list_dim d\n",
    "left join brands_dim b on d.barcode = b.barcode\n",
    "where receipt_id in (select receipt_id from receipts_fact where strftime('%Y-%m', date(dateScanned)) in (select months from cte_months where rn = 2) group by 1)\n",
    "group by 1,2,3\n",
    "order by 4 desc\n",
    "limit 5)\n",
    "\n",
    "select * from cte_recent\n",
    "union all\n",
    "select * from cte_previous;"
   ]
  },
  {
   "cell_type": "markdown",
   "metadata": {},
   "source": [
    "Query 3: When considering average spend from receipts with 'rewardsReceiptStatus’ of ‘Accepted’ or ‘Rejected’, which is greater?"
   ]
  },
  {
   "cell_type": "code",
   "execution_count": 17,
   "metadata": {},
   "outputs": [
    {
     "data": {
      "text/html": [
       "<span style=\"None\">Running query in &#x27;sqlite:///fetch_rewards_exc.db&#x27;</span>"
      ],
      "text/plain": [
       "Running query in 'sqlite:///fetch_rewards_exc.db'"
      ]
     },
     "metadata": {},
     "output_type": "display_data"
    },
    {
     "data": {
      "text/html": [
       "<table>\n",
       "    <thead>\n",
       "        <tr>\n",
       "            <th>receipt_status</th>\n",
       "            <th>avg_spend</th>\n",
       "        </tr>\n",
       "    </thead>\n",
       "    <tbody>\n",
       "        <tr>\n",
       "            <td>Accepted</td>\n",
       "            <td>80.85</td>\n",
       "        </tr>\n",
       "    </tbody>\n",
       "</table>"
      ],
      "text/plain": [
       "+----------------+-----------+\n",
       "| receipt_status | avg_spend |\n",
       "+----------------+-----------+\n",
       "|    Accepted    |   80.85   |\n",
       "+----------------+-----------+"
      ]
     },
     "execution_count": 17,
     "metadata": {},
     "output_type": "execute_result"
    }
   ],
   "source": [
    "%%sql\n",
    "with cte_accepted as (\n",
    "    select 1 as key, coalesce(round(avg(totalSpent),2),0) as avg_spend \n",
    "    from receipts_fact \n",
    "    where receipt_id in (select receipt_id from receipt_status_dim where rewardsReceiptStatus = 'FINISHED' group by 1)\n",
    "    ),\n",
    "\n",
    "cte_rejected as (\n",
    "    select 1 as key, coalesce(round(avg(totalSpent),2),0) as avg_spend \n",
    "    from receipts_fact \n",
    "    where receipt_id in (select receipt_id from receipt_status_dim where rewardsReceiptStatus = 'REJECTED' group by 1)\n",
    "    )\n",
    "\n",
    "select \n",
    "    case \n",
    "        when a.avg_spend > r.avg_spend then 'Accepted' \n",
    "        when a.avg_spend < r.avg_spend then 'Rejected'\n",
    "        else 'both same' end as receipt_status,\n",
    "    case \n",
    "        when a.avg_spend > r.avg_spend then a.avg_spend\n",
    "        when a.avg_spend < r.avg_spend then r.avg_spend\n",
    "        else a.avg_spend end as avg_spend\n",
    "from cte_accepted a \n",
    "join cte_rejected r on a.key = r.key"
   ]
  },
  {
   "cell_type": "markdown",
   "metadata": {},
   "source": [
    "Query 4: When considering total number of items purchased from receipts with 'rewardsReceiptStatus’ of ‘Accepted’ or ‘Rejected’, which is greater?"
   ]
  },
  {
   "cell_type": "code",
   "execution_count": 18,
   "metadata": {},
   "outputs": [
    {
     "data": {
      "text/html": [
       "<span style=\"None\">Running query in &#x27;sqlite:///fetch_rewards_exc.db&#x27;</span>"
      ],
      "text/plain": [
       "Running query in 'sqlite:///fetch_rewards_exc.db'"
      ]
     },
     "metadata": {},
     "output_type": "display_data"
    },
    {
     "data": {
      "text/html": [
       "<table>\n",
       "    <thead>\n",
       "        <tr>\n",
       "            <th>receipt_status</th>\n",
       "            <th>item_purchased</th>\n",
       "        </tr>\n",
       "    </thead>\n",
       "    <tbody>\n",
       "        <tr>\n",
       "            <td>Accepted</td>\n",
       "            <td>8184</td>\n",
       "        </tr>\n",
       "    </tbody>\n",
       "</table>"
      ],
      "text/plain": [
       "+----------------+----------------+\n",
       "| receipt_status | item_purchased |\n",
       "+----------------+----------------+\n",
       "|    Accepted    |      8184      |\n",
       "+----------------+----------------+"
      ]
     },
     "execution_count": 18,
     "metadata": {},
     "output_type": "execute_result"
    }
   ],
   "source": [
    "%%sql\n",
    "with cte_accepted as (\n",
    "    select 1 as key, cast(coalesce(round(sum(purchasedItemCount),2),0) as int) as item_count \n",
    "    from receipts_fact \n",
    "    where receipt_id in (select receipt_id from receipt_status_dim where rewardsReceiptStatus = 'FINISHED' group by 1)\n",
    "    ),\n",
    "\n",
    "cte_rejected as (\n",
    "    select 1 as key, cast(coalesce(round(sum(purchasedItemCount),2),0) as int) as item_count \n",
    "    from receipts_fact \n",
    "    where receipt_id in (select receipt_id from receipt_status_dim where rewardsReceiptStatus = 'REJECTED' group by 1)\n",
    "    )\n",
    "\n",
    "select \n",
    "    case \n",
    "        when a.item_count > r.item_count then 'Accepted' \n",
    "        when a.item_count < r.item_count then 'Rejected'\n",
    "        else 'both same' end as receipt_status,\n",
    "    case \n",
    "        when a.item_count > r.item_count then a.item_count\n",
    "        when a.item_count < r.item_count then r.item_count\n",
    "        else a.item_count end as item_purchased\n",
    "from cte_accepted a \n",
    "join cte_rejected r on a.key = r.key"
   ]
  },
  {
   "cell_type": "markdown",
   "metadata": {},
   "source": [
    "Query 5: Which brand has the most spend among users who were created within the past 6 months? \\\n",
    "Note: \\\n",
    "(1) Date of the last receipt scanned is considered as the most recent date \\\n",
    "(2) Inner Join used to display Brands/Barcodes available in both tables"
   ]
  },
  {
   "cell_type": "code",
   "execution_count": 19,
   "metadata": {},
   "outputs": [
    {
     "data": {
      "text/html": [
       "<span style=\"None\">Running query in &#x27;sqlite:///fetch_rewards_exc.db&#x27;</span>"
      ],
      "text/plain": [
       "Running query in 'sqlite:///fetch_rewards_exc.db'"
      ]
     },
     "metadata": {},
     "output_type": "display_data"
    },
    {
     "data": {
      "text/html": [
       "<table>\n",
       "    <thead>\n",
       "        <tr>\n",
       "            <th>barcode</th>\n",
       "            <th>name</th>\n",
       "            <th>total_spend</th>\n",
       "        </tr>\n",
       "    </thead>\n",
       "    <tbody>\n",
       "        <tr>\n",
       "            <td>511111802358</td>\n",
       "            <td>Cracker Barrel Cheese</td>\n",
       "            <td>196.98</td>\n",
       "        </tr>\n",
       "    </tbody>\n",
       "</table>"
      ],
      "text/plain": [
       "+--------------+-----------------------+-------------+\n",
       "|   barcode    |          name         | total_spend |\n",
       "+--------------+-----------------------+-------------+\n",
       "| 511111802358 | Cracker Barrel Cheese |    196.98   |\n",
       "+--------------+-----------------------+-------------+"
      ]
     },
     "execution_count": 19,
     "metadata": {},
     "output_type": "execute_result"
    }
   ],
   "source": [
    "%%sql\n",
    "with cte_range as (select max(date(dateScanned)) as max_date, date(max(date(dateScanned)),'-6 month') as min_date from receipts_fact),\n",
    "\n",
    "cte_receipt as (\n",
    "select receipt_id from receipts_fact \n",
    "where userId in (select distinct user_id from users_dim where date(createdDate) >= (select min_date from cte_range) and date(createdDate) <= (select max_date from cte_range))\n",
    "group by 1\n",
    ")\n",
    "\n",
    "select l.barcode, name, round(sum(finalPrice),2) as total_spend\n",
    "from item_list_dim l\n",
    "join brands_dim b on l.barcode = b.barcode\n",
    "where receipt_id in (select * from cte_receipt)\n",
    "group by 1,2\n",
    "order by 3 desc\n",
    "limit 1;"
   ]
  },
  {
   "cell_type": "markdown",
   "metadata": {},
   "source": [
    "Query 6: Which brand has the most transactions among users who were created within the past 6 months? \\\n",
    "Note: \\\n",
    "(1) Date of the last receipt scanned is considered as the most recent date \\\n",
    "(2) Inner Join used to display Brands/Barcodes available in both tables"
   ]
  },
  {
   "cell_type": "code",
   "execution_count": 20,
   "metadata": {},
   "outputs": [
    {
     "data": {
      "text/html": [
       "<span style=\"None\">Running query in &#x27;sqlite:///fetch_rewards_exc.db&#x27;</span>"
      ],
      "text/plain": [
       "Running query in 'sqlite:///fetch_rewards_exc.db'"
      ]
     },
     "metadata": {},
     "output_type": "display_data"
    },
    {
     "data": {
      "text/html": [
       "<table>\n",
       "    <thead>\n",
       "        <tr>\n",
       "            <th>barcode</th>\n",
       "            <th>name</th>\n",
       "            <th>transaction_count</th>\n",
       "        </tr>\n",
       "    </thead>\n",
       "    <tbody>\n",
       "        <tr>\n",
       "            <td>511111001485</td>\n",
       "            <td>Tostitos</td>\n",
       "            <td>11</td>\n",
       "        </tr>\n",
       "    </tbody>\n",
       "</table>"
      ],
      "text/plain": [
       "+--------------+----------+-------------------+\n",
       "|   barcode    |   name   | transaction_count |\n",
       "+--------------+----------+-------------------+\n",
       "| 511111001485 | Tostitos |         11        |\n",
       "+--------------+----------+-------------------+"
      ]
     },
     "execution_count": 20,
     "metadata": {},
     "output_type": "execute_result"
    }
   ],
   "source": [
    "%%sql\n",
    "with cte_range as (select max(date(dateScanned)) as max_date, date(max(date(dateScanned)),'-6 month') as min_date from receipts_fact),\n",
    "\n",
    "cte_receipt as (\n",
    "select receipt_id from receipts_fact \n",
    "where userId in (select distinct user_id from users_dim where date(createdDate) >= (select min_date from cte_range) and date(createdDate) <= (select max_date from cte_range))\n",
    "group by 1\n",
    ")\n",
    "\n",
    "select l.barcode, name, count(distinct receipt_id) as transaction_count\n",
    "from item_list_dim l\n",
    "join brands_dim b on l.barcode = b.barcode\n",
    "where receipt_id in (select * from cte_receipt)\n",
    "group by 1,2\n",
    "order by 3 desc\n",
    "limit 1;"
   ]
  },
  {
   "cell_type": "markdown",
   "metadata": {},
   "source": [
    "## Data Quality Issues"
   ]
  },
  {
   "cell_type": "markdown",
   "metadata": {},
   "source": [
    "1. Incomplete data: Out of 1119 receipts, only 679 receipts have purchased items and the remaining are NULL"
   ]
  },
  {
   "cell_type": "code",
   "execution_count": 21,
   "metadata": {},
   "outputs": [
    {
     "name": "stdout",
     "output_type": "stream",
     "text": [
      "<class 'pandas.core.frame.DataFrame'>\n",
      "RangeIndex: 1119 entries, 0 to 1118\n",
      "Data columns (total 15 columns):\n",
      " #   Column                   Non-Null Count  Dtype  \n",
      "---  ------                   --------------  -----  \n",
      " 0   bonusPointsEarned        544 non-null    float64\n",
      " 1   bonusPointsEarnedReason  544 non-null    object \n",
      " 2   pointsEarned             609 non-null    object \n",
      " 3   purchasedItemCount       635 non-null    float64\n",
      " 4   rewardsReceiptItemList   679 non-null    object \n",
      " 5   rewardsReceiptStatus     1119 non-null   object \n",
      " 6   totalSpent               684 non-null    object \n",
      " 7   userId                   1119 non-null   object \n",
      " 8   _id.$oid                 1119 non-null   object \n",
      " 9   createDate.$date         1119 non-null   int64  \n",
      " 10  dateScanned.$date        1119 non-null   int64  \n",
      " 11  finishedDate.$date       568 non-null    float64\n",
      " 12  modifyDate.$date         1119 non-null   int64  \n",
      " 13  pointsAwardedDate.$date  537 non-null    float64\n",
      " 14  purchaseDate.$date       671 non-null    float64\n",
      "dtypes: float64(5), int64(3), object(7)\n",
      "memory usage: 131.3+ KB\n"
     ]
    }
   ],
   "source": [
    "df.info()"
   ]
  },
  {
   "cell_type": "markdown",
   "metadata": {},
   "source": [
    "2. Incorrect data type: Incorrect data type identified for columns 'totalSpent', 'pointsEarned', 'createDate', 'dateScanned', 'finishedDate', 'modifyDate', 'pointsAwardedDate', and 'purchaseDate'"
   ]
  },
  {
   "cell_type": "code",
   "execution_count": 22,
   "metadata": {},
   "outputs": [
    {
     "data": {
      "text/plain": [
       "bonusPointsEarned          float64\n",
       "bonusPointsEarnedReason     object\n",
       "pointsEarned                object\n",
       "purchasedItemCount         float64\n",
       "rewardsReceiptItemList      object\n",
       "rewardsReceiptStatus        object\n",
       "totalSpent                  object\n",
       "userId                      object\n",
       "_id.$oid                    object\n",
       "createDate.$date             int64\n",
       "dateScanned.$date            int64\n",
       "finishedDate.$date         float64\n",
       "modifyDate.$date             int64\n",
       "pointsAwardedDate.$date    float64\n",
       "purchaseDate.$date         float64\n",
       "dtype: object"
      ]
     },
     "execution_count": 22,
     "metadata": {},
     "output_type": "execute_result"
    }
   ],
   "source": [
    "df.dtypes"
   ]
  },
  {
   "cell_type": "markdown",
   "metadata": {},
   "source": [
    "3. Invalid Data: As shown below, Max(purchaseDate) is greater than Max(dateScanned) and the SQL below displays the incorrect record"
   ]
  },
  {
   "cell_type": "code",
   "execution_count": 23,
   "metadata": {},
   "outputs": [
    {
     "data": {
      "text/plain": [
       "bonusPointsEarned                          750.0\n",
       "pointsEarned                             10199.8\n",
       "purchasedItemCount                         689.0\n",
       "totalSpent                               4721.95\n",
       "createDate            2021-03-01 23:17:34.772000\n",
       "dateScanned           2021-03-01 23:17:34.772000\n",
       "finishedDate                 2021-02-26 22:36:25\n",
       "modifyDate            2021-03-01 23:17:34.772000\n",
       "pointsAwardedDate            2021-02-26 22:36:25\n",
       "purchaseDate                 2021-03-08 17:37:13\n",
       "Name: max, dtype: object"
      ]
     },
     "execution_count": 23,
     "metadata": {},
     "output_type": "execute_result"
    }
   ],
   "source": [
    "df_receipt.describe().loc['max']"
   ]
  },
  {
   "cell_type": "code",
   "execution_count": 24,
   "metadata": {},
   "outputs": [
    {
     "data": {
      "text/html": [
       "<span style=\"None\">Running query in &#x27;sqlite:///fetch_rewards_exc.db&#x27;</span>"
      ],
      "text/plain": [
       "Running query in 'sqlite:///fetch_rewards_exc.db'"
      ]
     },
     "metadata": {},
     "output_type": "display_data"
    },
    {
     "data": {
      "text/html": [
       "<table>\n",
       "    <thead>\n",
       "        <tr>\n",
       "            <th>index</th>\n",
       "            <th>bonusPointsEarned</th>\n",
       "            <th>pointsEarned</th>\n",
       "            <th>purchasedItemCount</th>\n",
       "            <th>totalSpent</th>\n",
       "            <th>userId</th>\n",
       "            <th>receipt_id</th>\n",
       "            <th>createDate</th>\n",
       "            <th>dateScanned</th>\n",
       "            <th>finishedDate</th>\n",
       "            <th>modifyDate</th>\n",
       "            <th>pointsAwardedDate</th>\n",
       "            <th>purchaseDate</th>\n",
       "        </tr>\n",
       "    </thead>\n",
       "    <tbody>\n",
       "        <tr>\n",
       "            <td>871</td>\n",
       "            <td>25.0</td>\n",
       "            <td>25.0</td>\n",
       "            <td>1.0</td>\n",
       "            <td>1.0</td>\n",
       "            <td>6021768799409b11fcf8987f</td>\n",
       "            <td>602176c90a7214d8e9000028</td>\n",
       "            <td>2021-02-08 17:37:13.000000</td>\n",
       "            <td>2021-02-08 17:37:13.000000</td>\n",
       "            <td>2021-02-08 17:37:13.000000</td>\n",
       "            <td>2021-02-08 17:37:13.000000</td>\n",
       "            <td>2021-02-08 17:37:13.000000</td>\n",
       "            <td>2021-03-08 17:37:13.000000</td>\n",
       "        </tr>\n",
       "    </tbody>\n",
       "</table>"
      ],
      "text/plain": [
       "+-------+-------------------+--------------+--------------------+------------+--------------------------+--------------------------+----------------------------+----------------------------+----------------------------+----------------------------+----------------------------+----------------------------+\n",
       "| index | bonusPointsEarned | pointsEarned | purchasedItemCount | totalSpent |          userId          |        receipt_id        |         createDate         |        dateScanned         |        finishedDate        |         modifyDate         |     pointsAwardedDate      |        purchaseDate        |\n",
       "+-------+-------------------+--------------+--------------------+------------+--------------------------+--------------------------+----------------------------+----------------------------+----------------------------+----------------------------+----------------------------+----------------------------+\n",
       "|  871  |        25.0       |     25.0     |        1.0         |    1.0     | 6021768799409b11fcf8987f | 602176c90a7214d8e9000028 | 2021-02-08 17:37:13.000000 | 2021-02-08 17:37:13.000000 | 2021-02-08 17:37:13.000000 | 2021-02-08 17:37:13.000000 | 2021-02-08 17:37:13.000000 | 2021-03-08 17:37:13.000000 |\n",
       "+-------+-------------------+--------------+--------------------+------------+--------------------------+--------------------------+----------------------------+----------------------------+----------------------------+----------------------------+----------------------------+----------------------------+"
      ]
     },
     "execution_count": 24,
     "metadata": {},
     "output_type": "execute_result"
    }
   ],
   "source": [
    "%%sql\n",
    "select *\n",
    "from receipts_fact\n",
    "where date(purchaseDate) in (select date(max(purchaseDate)) from receipts_fact)"
   ]
  },
  {
   "cell_type": "markdown",
   "metadata": {},
   "source": [
    "4. Data Inconsistency: Points awarded to receipts that were not 'Accepted'"
   ]
  },
  {
   "cell_type": "code",
   "execution_count": 25,
   "metadata": {},
   "outputs": [
    {
     "data": {
      "text/html": [
       "<span style=\"None\">Running query in &#x27;sqlite:///fetch_rewards_exc.db&#x27;</span>"
      ],
      "text/plain": [
       "Running query in 'sqlite:///fetch_rewards_exc.db'"
      ]
     },
     "metadata": {},
     "output_type": "display_data"
    },
    {
     "data": {
      "text/html": [
       "<table>\n",
       "    <thead>\n",
       "        <tr>\n",
       "            <th>receipt_count</th>\n",
       "        </tr>\n",
       "    </thead>\n",
       "    <tbody>\n",
       "        <tr>\n",
       "            <td>91</td>\n",
       "        </tr>\n",
       "    </tbody>\n",
       "</table>"
      ],
      "text/plain": [
       "+---------------+\n",
       "| receipt_count |\n",
       "+---------------+\n",
       "|       91      |\n",
       "+---------------+"
      ]
     },
     "execution_count": 25,
     "metadata": {},
     "output_type": "execute_result"
    }
   ],
   "source": [
    "%%sql\n",
    "select count(distinct receipt_id) as receipt_count\n",
    "from receipts_fact\n",
    "where receipt_id in (select receipt_id from receipt_status_dim where rewardsReceiptStatus <> 'FINISHED') and pointsEarned is not null"
   ]
  },
  {
   "cell_type": "markdown",
   "metadata": {},
   "source": [
    "5. Data Inconsistency: Points not awarded to receipts that were 'Accepted'"
   ]
  },
  {
   "cell_type": "code",
   "execution_count": 26,
   "metadata": {},
   "outputs": [
    {
     "data": {
      "text/html": [
       "<span style=\"None\">Running query in &#x27;sqlite:///fetch_rewards_exc.db&#x27;</span>"
      ],
      "text/plain": [
       "Running query in 'sqlite:///fetch_rewards_exc.db'"
      ]
     },
     "metadata": {},
     "output_type": "display_data"
    },
    {
     "data": {
      "text/html": [
       "<table>\n",
       "    <thead>\n",
       "        <tr>\n",
       "            <th>receipt_id</th>\n",
       "            <th>bonusPointsEarnedReason</th>\n",
       "        </tr>\n",
       "    </thead>\n",
       "    <tbody>\n",
       "        <tr>\n",
       "            <td>5ff774200a7214ada1000638</td>\n",
       "            <td>None</td>\n",
       "        </tr>\n",
       "        <tr>\n",
       "            <td>5ff8c8880a7214adca000008</td>\n",
       "            <td>None</td>\n",
       "        </tr>\n",
       "        <tr>\n",
       "            <td>5ffc8cc20a720f05c5000026</td>\n",
       "            <td>None</td>\n",
       "        </tr>\n",
       "        <tr>\n",
       "            <td>5ffc8cb40a720f05c5000025</td>\n",
       "            <td>None</td>\n",
       "        </tr>\n",
       "    </tbody>\n",
       "</table>"
      ],
      "text/plain": [
       "+--------------------------+-------------------------+\n",
       "|        receipt_id        | bonusPointsEarnedReason |\n",
       "+--------------------------+-------------------------+\n",
       "| 5ff774200a7214ada1000638 |           None          |\n",
       "| 5ff8c8880a7214adca000008 |           None          |\n",
       "| 5ffc8cc20a720f05c5000026 |           None          |\n",
       "| 5ffc8cb40a720f05c5000025 |           None          |\n",
       "+--------------------------+-------------------------+"
      ]
     },
     "execution_count": 26,
     "metadata": {},
     "output_type": "execute_result"
    }
   ],
   "source": [
    "%%sql\n",
    "with cte as (\n",
    "select distinct receipt_id\n",
    "from receipts_fact\n",
    "where pointsEarned < 1 and receipt_id in (select receipt_id from receipt_status_dim where rewardsReceiptStatus = 'FINISHED'))\n",
    "\n",
    "select c.receipt_id, bonusPointsEarnedReason -- count(c.receipt_id)\n",
    "from cte c\n",
    "join bp_reason_dim b\n",
    "on c.receipt_id = b.receipt_id"
   ]
  },
  {
   "cell_type": "markdown",
   "metadata": {},
   "source": [
    "6. Missing Data: Count of Barcode/Brand not available in Brand dataset"
   ]
  },
  {
   "cell_type": "code",
   "execution_count": 27,
   "metadata": {},
   "outputs": [
    {
     "data": {
      "text/html": [
       "<span style=\"None\">Running query in &#x27;sqlite:///fetch_rewards_exc.db&#x27;</span>"
      ],
      "text/plain": [
       "Running query in 'sqlite:///fetch_rewards_exc.db'"
      ]
     },
     "metadata": {},
     "output_type": "display_data"
    },
    {
     "data": {
      "text/html": [
       "<table>\n",
       "    <thead>\n",
       "        <tr>\n",
       "            <th>brands_missing</th>\n",
       "        </tr>\n",
       "    </thead>\n",
       "    <tbody>\n",
       "        <tr>\n",
       "            <td>552</td>\n",
       "        </tr>\n",
       "    </tbody>\n",
       "</table>"
      ],
      "text/plain": [
       "+----------------+\n",
       "| brands_missing |\n",
       "+----------------+\n",
       "|      552       |\n",
       "+----------------+"
      ]
     },
     "execution_count": 27,
     "metadata": {},
     "output_type": "execute_result"
    }
   ],
   "source": [
    "%%sql\n",
    "select count(distinct barcode) as brands_missing\n",
    "from item_list_dim\n",
    "where barcode not in (select distinct barcode from brands_dim)"
   ]
  },
  {
   "cell_type": "markdown",
   "metadata": {},
   "source": [
    "7. Data Redundancy: Duplicate records identified in User dataset"
   ]
  },
  {
   "cell_type": "code",
   "execution_count": 28,
   "metadata": {},
   "outputs": [
    {
     "data": {
      "text/html": [
       "<span style=\"None\">Running query in &#x27;sqlite:///fetch_rewards_exc.db&#x27;</span>"
      ],
      "text/plain": [
       "Running query in 'sqlite:///fetch_rewards_exc.db'"
      ]
     },
     "metadata": {},
     "output_type": "display_data"
    },
    {
     "data": {
      "text/html": [
       "<table>\n",
       "    <thead>\n",
       "        <tr>\n",
       "            <th>active</th>\n",
       "            <th>role</th>\n",
       "            <th>signUpSource</th>\n",
       "            <th>state</th>\n",
       "            <th>user_id</th>\n",
       "            <th>createdDate</th>\n",
       "            <th>lastLogin</th>\n",
       "            <th>duplicate_records</th>\n",
       "        </tr>\n",
       "    </thead>\n",
       "    <tbody>\n",
       "        <tr>\n",
       "            <td>1</td>\n",
       "            <td>consumer</td>\n",
       "            <td>None</td>\n",
       "            <td>None</td>\n",
       "            <td>5a43c08fe4b014fd6b6a0612</td>\n",
       "            <td>2017-12-27 15:47:27.059000</td>\n",
       "            <td>2021-02-12 16:22:37.155000</td>\n",
       "            <td>8</td>\n",
       "        </tr>\n",
       "        <tr>\n",
       "            <td>1</td>\n",
       "            <td>consumer</td>\n",
       "            <td>Email</td>\n",
       "            <td>None</td>\n",
       "            <td>60145ff384231211ce796d51</td>\n",
       "            <td>2021-01-29 19:20:19.722000</td>\n",
       "            <td>None</td>\n",
       "            <td>2</td>\n",
       "        </tr>\n",
       "        <tr>\n",
       "            <td>1</td>\n",
       "            <td>consumer</td>\n",
       "            <td>Email</td>\n",
       "            <td>None</td>\n",
       "            <td>60186237c8b50e11d8454d5f</td>\n",
       "            <td>2021-02-01 20:19:03.551000</td>\n",
       "            <td>None</td>\n",
       "            <td>5</td>\n",
       "        </tr>\n",
       "        <tr>\n",
       "            <td>1</td>\n",
       "            <td>consumer</td>\n",
       "            <td>Email</td>\n",
       "            <td>AL</td>\n",
       "            <td>5ffe115404929101d0aaebb2</td>\n",
       "            <td>2021-01-12 21:15:00.208000</td>\n",
       "            <td>None</td>\n",
       "            <td>2</td>\n",
       "        </tr>\n",
       "        <tr>\n",
       "            <td>1</td>\n",
       "            <td>consumer</td>\n",
       "            <td>Email</td>\n",
       "            <td>AL</td>\n",
       "            <td>6000b75bbe5fc96dfee1d4d3</td>\n",
       "            <td>2021-01-14 21:27:55.938000</td>\n",
       "            <td>None</td>\n",
       "            <td>6</td>\n",
       "        </tr>\n",
       "        <tr>\n",
       "            <td>1</td>\n",
       "            <td>consumer</td>\n",
       "            <td>Email</td>\n",
       "            <td>OH</td>\n",
       "            <td>60147d2ac8b50e11d8453f53</td>\n",
       "            <td>2021-01-29 21:24:58.184000</td>\n",
       "            <td>None</td>\n",
       "            <td>5</td>\n",
       "        </tr>\n",
       "        <tr>\n",
       "            <td>1</td>\n",
       "            <td>consumer</td>\n",
       "            <td>Email</td>\n",
       "            <td>WI</td>\n",
       "            <td>5ff1e194b6a9d73a3a9f1052</td>\n",
       "            <td>2021-01-03 15:24:04.800000</td>\n",
       "            <td>2021-01-03 15:25:37.857999</td>\n",
       "            <td>11</td>\n",
       "        </tr>\n",
       "        <tr>\n",
       "            <td>1</td>\n",
       "            <td>consumer</td>\n",
       "            <td>Email</td>\n",
       "            <td>WI</td>\n",
       "            <td>5ff1e1eacfcf6c399c274ae6</td>\n",
       "            <td>2021-01-03 15:25:30.554000</td>\n",
       "            <td>2021-01-03 15:25:30.596999</td>\n",
       "            <td>4</td>\n",
       "        </tr>\n",
       "        <tr>\n",
       "            <td>1</td>\n",
       "            <td>consumer</td>\n",
       "            <td>Email</td>\n",
       "            <td>WI</td>\n",
       "            <td>5ff36a3862fde912123a4460</td>\n",
       "            <td>2021-01-04 19:19:20.352000</td>\n",
       "            <td>2021-01-04 19:23:05.340000</td>\n",
       "            <td>5</td>\n",
       "        </tr>\n",
       "        <tr>\n",
       "            <td>1</td>\n",
       "            <td>consumer</td>\n",
       "            <td>Email</td>\n",
       "            <td>WI</td>\n",
       "            <td>5ff36be7135e7011bcb856d3</td>\n",
       "            <td>2021-01-04 19:26:31.239000</td>\n",
       "            <td>2021-01-04 19:29:52.726000</td>\n",
       "            <td>3</td>\n",
       "        </tr>\n",
       "    </tbody>\n",
       "</table>\n",
       "<span style=\"font-style:italic;text-align:center;\">Truncated to <a href=\"https://jupysql.ploomber.io/en/latest/api/configuration.html#displaylimit\">displaylimit</a> of 10.</span>"
      ],
      "text/plain": [
       "+--------+----------+--------------+-------+--------------------------+----------------------------+----------------------------+-------------------+\n",
       "| active |   role   | signUpSource | state |         user_id          |        createdDate         |         lastLogin          | duplicate_records |\n",
       "+--------+----------+--------------+-------+--------------------------+----------------------------+----------------------------+-------------------+\n",
       "|   1    | consumer |     None     |  None | 5a43c08fe4b014fd6b6a0612 | 2017-12-27 15:47:27.059000 | 2021-02-12 16:22:37.155000 |         8         |\n",
       "|   1    | consumer |    Email     |  None | 60145ff384231211ce796d51 | 2021-01-29 19:20:19.722000 |            None            |         2         |\n",
       "|   1    | consumer |    Email     |  None | 60186237c8b50e11d8454d5f | 2021-02-01 20:19:03.551000 |            None            |         5         |\n",
       "|   1    | consumer |    Email     |   AL  | 5ffe115404929101d0aaebb2 | 2021-01-12 21:15:00.208000 |            None            |         2         |\n",
       "|   1    | consumer |    Email     |   AL  | 6000b75bbe5fc96dfee1d4d3 | 2021-01-14 21:27:55.938000 |            None            |         6         |\n",
       "|   1    | consumer |    Email     |   OH  | 60147d2ac8b50e11d8453f53 | 2021-01-29 21:24:58.184000 |            None            |         5         |\n",
       "|   1    | consumer |    Email     |   WI  | 5ff1e194b6a9d73a3a9f1052 | 2021-01-03 15:24:04.800000 | 2021-01-03 15:25:37.857999 |         11        |\n",
       "|   1    | consumer |    Email     |   WI  | 5ff1e1eacfcf6c399c274ae6 | 2021-01-03 15:25:30.554000 | 2021-01-03 15:25:30.596999 |         4         |\n",
       "|   1    | consumer |    Email     |   WI  | 5ff36a3862fde912123a4460 | 2021-01-04 19:19:20.352000 | 2021-01-04 19:23:05.340000 |         5         |\n",
       "|   1    | consumer |    Email     |   WI  | 5ff36be7135e7011bcb856d3 | 2021-01-04 19:26:31.239000 | 2021-01-04 19:29:52.726000 |         3         |\n",
       "+--------+----------+--------------+-------+--------------------------+----------------------------+----------------------------+-------------------+\n",
       "Truncated to displaylimit of 10."
      ]
     },
     "execution_count": 28,
     "metadata": {},
     "output_type": "execute_result"
    }
   ],
   "source": [
    "%%sql\n",
    "select active, role, signUpSource, state, user_id, createdDate, lastLogin, count(*) as duplicate_records\n",
    "from users_dim\n",
    "group by 1,2,3,4,5,6,7\n",
    "having count(*) > 1;"
   ]
  },
  {
   "cell_type": "markdown",
   "metadata": {},
   "source": [
    "8. Data Redundancy: One to one mapping identified between Barcode and Brand ID for most records, however, the following 7 Barcodes have multiple Brand ID "
   ]
  },
  {
   "cell_type": "code",
   "execution_count": 29,
   "metadata": {},
   "outputs": [
    {
     "data": {
      "text/html": [
       "<span style=\"None\">Running query in &#x27;sqlite:///fetch_rewards_exc.db&#x27;</span>"
      ],
      "text/plain": [
       "Running query in 'sqlite:///fetch_rewards_exc.db'"
      ]
     },
     "metadata": {},
     "output_type": "display_data"
    },
    {
     "data": {
      "text/html": [
       "<table>\n",
       "    <thead>\n",
       "        <tr>\n",
       "            <th>barcode</th>\n",
       "            <th>count(distinct brand_id)</th>\n",
       "        </tr>\n",
       "    </thead>\n",
       "    <tbody>\n",
       "        <tr>\n",
       "            <td>511111004790</td>\n",
       "            <td>2</td>\n",
       "        </tr>\n",
       "        <tr>\n",
       "            <td>511111204923</td>\n",
       "            <td>2</td>\n",
       "        </tr>\n",
       "        <tr>\n",
       "            <td>511111305125</td>\n",
       "            <td>2</td>\n",
       "        </tr>\n",
       "        <tr>\n",
       "            <td>511111504139</td>\n",
       "            <td>2</td>\n",
       "        </tr>\n",
       "        <tr>\n",
       "            <td>511111504788</td>\n",
       "            <td>2</td>\n",
       "        </tr>\n",
       "        <tr>\n",
       "            <td>511111605058</td>\n",
       "            <td>2</td>\n",
       "        </tr>\n",
       "        <tr>\n",
       "            <td>511111704140</td>\n",
       "            <td>2</td>\n",
       "        </tr>\n",
       "    </tbody>\n",
       "</table>"
      ],
      "text/plain": [
       "+--------------+--------------------------+\n",
       "|   barcode    | count(distinct brand_id) |\n",
       "+--------------+--------------------------+\n",
       "| 511111004790 |            2             |\n",
       "| 511111204923 |            2             |\n",
       "| 511111305125 |            2             |\n",
       "| 511111504139 |            2             |\n",
       "| 511111504788 |            2             |\n",
       "| 511111605058 |            2             |\n",
       "| 511111704140 |            2             |\n",
       "+--------------+--------------------------+"
      ]
     },
     "execution_count": 29,
     "metadata": {},
     "output_type": "execute_result"
    }
   ],
   "source": [
    "%%sql\n",
    "select barcode, count(distinct brand_id)\n",
    "from brands_dim\n",
    "group by 1\n",
    "having count(distinct brand_id) > 1"
   ]
  }
 ],
 "metadata": {
  "kernelspec": {
   "display_name": "deck_automation",
   "language": "python",
   "name": "python3"
  },
  "language_info": {
   "codemirror_mode": {
    "name": "ipython",
    "version": 3
   },
   "file_extension": ".py",
   "mimetype": "text/x-python",
   "name": "python",
   "nbconvert_exporter": "python",
   "pygments_lexer": "ipython3",
   "version": "3.11.5"
  }
 },
 "nbformat": 4,
 "nbformat_minor": 2
}
